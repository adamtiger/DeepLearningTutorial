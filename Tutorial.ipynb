{
 "cells": [
  {
   "cell_type": "markdown",
   "metadata": {},
   "source": [
    "# Notebook tutorials for deep learning"
   ]
  },
  {
   "cell_type": "markdown",
   "metadata": {},
   "source": [
    "## ------------------------------------------------------------------------------------------------------------\n",
    "## BASIC CONCEPTS\n",
    "## ------------------------------------------------------------------------------------------------------------"
   ]
  },
  {
   "cell_type": "markdown",
   "metadata": {},
   "source": [
    "## Bias-variance trade-off\n",
    "\n",
    "In this part we discussing the bias-variance trade-off where the aim is to understand how to balance the complexity of a model applied on a training data set. Linear regression is implemented by gradient descent.\n",
    "\n",
    "[source](bias_variance/linearregr.py)\n",
    "[notebook](DL1_BiasVariance.ipynb)"
   ]
  },
  {
   "cell_type": "markdown",
   "metadata": {},
   "source": [
    "## Logistic regression\n",
    "\n",
    "In this part we provide an implementation for logistic regression and some further experiments to show its performance on the MNIST data set.\n",
    "\n",
    "[source](logistic_regression/logic.py)\n",
    "[notebook](DL2_LogisticRegression.ipynb)"
   ]
  },
  {
   "cell_type": "markdown",
   "metadata": {},
   "source": [
    "## Softmax regression"
   ]
  },
  {
   "cell_type": "markdown",
   "metadata": {},
   "source": [
    "In this part we provide an implementation for softmax regression and experiments on the MNIST data set.\n",
    "\n",
    "[source](softmax_regression/softreg.py)\n",
    "[notebook](DL3_SoftmaxRegression.ipynb)"
   ]
  },
  {
   "cell_type": "markdown",
   "metadata": {},
   "source": [
    "## Multi-layer Neural Network"
   ]
  },
  {
   "cell_type": "markdown",
   "metadata": {},
   "source": [
    "In this part one of the most important concept will be discussed, the neural networks. A full implementation is provided to examplify the typical ingredients of deep learning, included activation functions, loss functions, regularizers and initalizers.\n",
    "\n",
    "[source](multilayer_nn)\n",
    "[notebook](DL4_MultiLayerNN.ipynb)"
   ]
  },
  {
   "cell_type": "markdown",
   "metadata": {},
   "source": [
    "## Activation functions"
   ]
  },
  {
   "cell_type": "markdown",
   "metadata": {},
   "source": [
    "In this part the activation functions are introduced. They are non-linear parts of the networks which are vital for the strength of the approximation capibilities of the networks.\n",
    "\n",
    "[source](multilayer_nn/activations.py)\n",
    "[notebook](DL5_ActivationFunctions.ipynb)"
   ]
  },
  {
   "cell_type": "markdown",
   "metadata": {},
   "source": [
    "## Loss functions"
   ]
  },
  {
   "cell_type": "markdown",
   "metadata": {},
   "source": [
    "In this part some of the loss functions are discussed. \n",
    "\n",
    "[source](multilayer_nn/losses.py)\n",
    "[notebook](DL6_LossFunctions.ipynb)"
   ]
  },
  {
   "cell_type": "markdown",
   "metadata": {},
   "source": [
    "## Regularization"
   ]
  },
  {
   "cell_type": "markdown",
   "metadata": {},
   "source": [
    "In this part the L1 and L2 regularization is introduced and the effect of regularization is illustrated.\n",
    "\n",
    "[source](multilayer_nn/regularizers.py)\n",
    "[notebook](DL7_Regularization.ipynb)"
   ]
  },
  {
   "cell_type": "markdown",
   "metadata": {},
   "source": [
    "## Optimizers"
   ]
  },
  {
   "cell_type": "markdown",
   "metadata": {},
   "source": [
    "In this part an overview is provided about different Mini-Batch Gradient Descent methods like Adam.\n",
    "\n",
    "[source](multilayer_nn/optimizers.py)\n",
    "[notebook](DL8_Optimizers.ipynb)"
   ]
  },
  {
   "cell_type": "markdown",
   "metadata": {},
   "source": [
    "## ------------------------------------------------------------------------------------------------------------\n",
    "## ADVANCED EXAMPLES (PYTORCH, SCIKIT LEARN)\n",
    "## ------------------------------------------------------------------------------------------------------------"
   ]
  },
  {
   "cell_type": "markdown",
   "metadata": {},
   "source": [
    "## Calculating Jacobi matrix in Pytorch"
   ]
  },
  {
   "cell_type": "markdown",
   "metadata": {},
   "source": [
    "In this part we are dealing with the question how to calculate the Jacobi-matrix based regularization term in a contractive autoencoder with Pytorch's autograd functions.\n",
    "\n",
    "[notebook](PT1_GradientCalculationPytorch.ipynb)"
   ]
  },
  {
   "cell_type": "markdown",
   "metadata": {},
   "source": [
    "## Auto-Encoder in Pytorch"
   ]
  },
  {
   "cell_type": "markdown",
   "metadata": {},
   "source": [
    "In this part we show examples for different types of auto encoders, included CAE and VAE.\n",
    "\n",
    "[notebook](PT2_AutoEncoder.ipynb)"
   ]
  },
  {
   "cell_type": "markdown",
   "metadata": {},
   "source": [
    "## ------------------------------------------------------------------------------------------------------------\n",
    "## REINFORCEMENT LEARNING\n",
    "## ------------------------------------------------------------------------------------------------------------"
   ]
  },
  {
   "cell_type": "markdown",
   "metadata": {},
   "source": [
    "## Solving Bellmann equation on a simple example"
   ]
  },
  {
   "cell_type": "markdown",
   "metadata": {},
   "source": [
    "In this part a simple example is shown for how to solve the Bellmann-equation for a grid world like environment.\n",
    "\n",
    "[notebook](RL1_BellmannExample.ipynb)"
   ]
  },
  {
   "cell_type": "code",
   "execution_count": null,
   "metadata": {},
   "outputs": [],
   "source": []
  }
 ],
 "metadata": {
  "kernelspec": {
   "display_name": "Python 3",
   "language": "python",
   "name": "python3"
  },
  "language_info": {
   "codemirror_mode": {
    "name": "ipython",
    "version": 3
   },
   "file_extension": ".py",
   "mimetype": "text/x-python",
   "name": "python",
   "nbconvert_exporter": "python",
   "pygments_lexer": "ipython3",
   "version": "3.5.5"
  }
 },
 "nbformat": 4,
 "nbformat_minor": 2
}
