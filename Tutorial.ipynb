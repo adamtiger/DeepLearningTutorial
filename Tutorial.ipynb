{
 "cells": [
  {
   "cell_type": "markdown",
   "metadata": {},
   "source": [
    "# Notebook tutorials for deep learning"
   ]
  },
  {
   "cell_type": "markdown",
   "metadata": {},
   "source": [
    "## Bias-variance trade-off\n",
    "\n",
    "In this part we discussing the bias-variance trade-off where the aim is to understand how to balance the complexity of a model applied on a training data set. Linear regression is implemented by gradient descent.\n",
    "\n",
    "[source](bias_variance/linearregr.py)\n",
    "[notebook](1_BiasVariance.ipynb)"
   ]
  },
  {
   "cell_type": "markdown",
   "metadata": {},
   "source": [
    "## Logistic regression\n",
    "\n",
    "In this part we provide an implementation for logistic regression and some further experiments to show its performance on the MNIST data set.\n",
    "\n",
    "[source](logistic_regression/logic.py)\n",
    "[notebook](2_LogisticRegression.ipynb)"
   ]
  },
  {
   "cell_type": "code",
   "execution_count": null,
   "metadata": {},
   "outputs": [],
   "source": []
  }
 ],
 "metadata": {
  "kernelspec": {
   "display_name": "Python 3",
   "language": "python",
   "name": "python3"
  },
  "language_info": {
   "codemirror_mode": {
    "name": "ipython",
    "version": 3
   },
   "file_extension": ".py",
   "mimetype": "text/x-python",
   "name": "python",
   "nbconvert_exporter": "python",
   "pygments_lexer": "ipython3",
   "version": "3.5.5"
  }
 },
 "nbformat": 4,
 "nbformat_minor": 2
}
