{
 "cells": [
  {
   "cell_type": "markdown",
   "metadata": {},
   "source": [
    "# Solving Bellmann equation on a simple example"
   ]
  },
  {
   "cell_type": "markdown",
   "metadata": {},
   "source": [
    "![gridworld](images/gridworld.png)"
   ]
  },
  {
   "cell_type": "code",
   "execution_count": 1,
   "metadata": {},
   "outputs": [],
   "source": [
    "import numpy as np"
   ]
  },
  {
   "cell_type": "code",
   "execution_count": 2,
   "metadata": {},
   "outputs": [],
   "source": [
    "# We need a matrix to store the transition probabilities. (transition matrix)\n",
    "\n",
    "T_sas = np.zeros((16, 16, 4)) # we have 16 states, 4 actions\n",
    "\n",
    "H = np.array([x for x in range(16)])\n",
    "T_sas[H, H - (H % 4 != 0), 0] = 1 # left\n",
    "T_sas[H, H - 4*(H-4 >= 0), 1] = 1 # up\n",
    "T_sas[H, H + ((H+1) % 4 != 0), 2] = 1 # right\n",
    "T_sas[H, H + 4*(H+4 < 16), 3] = 1 # down\n",
    "T_sas[0, :, :] = 0 # in the shaded area each action is pointless\n",
    "T_sas[0, 0, :] = 1\n",
    "T_sas[15, :, :] = 0\n",
    "T_sas[15, 15, :] = 1"
   ]
  },
  {
   "cell_type": "code",
   "execution_count": 5,
   "metadata": {},
   "outputs": [],
   "source": [
    "# reward\n",
    "r_sas = -np.ones((16, 16, 4))\n",
    "\n",
    "r_sas[0, 0, :] = 0\n",
    "r_sas[15, 15, :] = 0"
   ]
  },
  {
   "cell_type": "code",
   "execution_count": 6,
   "metadata": {},
   "outputs": [],
   "source": [
    "# Bellmann-equation\n",
    "def bellman_operator(p_sa, v_s, gamma=0.98):\n",
    "    rT = np.sum(r_sas * T_sas, 1)\n",
    "    rTpi = np.sum(rT * p_sa, 1)\n",
    "    \n",
    "    pi = p_sa.reshape(16, 1, 4).repeat(16, 1)\n",
    "    vT = np.sum(T_sas * pi, 2)\n",
    "    vTpi = np.matmul(vT, v_s) * gamma\n",
    "    return rTpi + vTpi"
   ]
  },
  {
   "cell_type": "code",
   "execution_count": 7,
   "metadata": {},
   "outputs": [],
   "source": [
    "# policy improvement\n",
    "def policy_improvement(v_s, gamma=0.98):\n",
    "    rT = np.sum(r_sas * T_sas, 1)\n",
    "    v = v_s.reshape(1, 16, 1).repeat(16, 0).repeat(4, 2)\n",
    "    pi_idx = np.argmax(rT + gamma * np.sum(T_sas * v, 1), 1)\n",
    "    pi = np.zeros((16, 4))\n",
    "    pi[:, pi_idx] = 1\n",
    "    return pi"
   ]
  },
  {
   "cell_type": "code",
   "execution_count": 8,
   "metadata": {},
   "outputs": [],
   "source": [
    "# value iteration step\n",
    "def value_iteration(gamma=0.98):\n",
    "    rT = np.sum(r_sas * T_sas, 1)\n",
    "    v = v_s.reshape(1, 16, 1).repeat(16, 0).repeat(4, 2)\n",
    "    return np.max(rT + gamma * np.sum(T_sas * v, 1), 1)"
   ]
  },
  {
   "cell_type": "code",
   "execution_count": 9,
   "metadata": {},
   "outputs": [],
   "source": [
    "# policy\n",
    "def policy(gamma=0.98):\n",
    "    rT = np.sum(r_sas * T_sas, 1)\n",
    "    v = v_s.reshape(1, 16, 1).repeat(16, 0).repeat(4, 2)\n",
    "    return np.argmax(rT + gamma * np.sum(T_sas * v, 1), 1)"
   ]
  },
  {
   "cell_type": "code",
   "execution_count": 101,
   "metadata": {},
   "outputs": [],
   "source": [
    "# policy evaluation and policy improvement\n",
    "gamma = 0.9\n",
    "v_s = np.zeros(16)\n",
    "p_sa = np.ones((16, 4)) * 0.25\n",
    "for _ in range(10):\n",
    "    v_s = bellman_operator(p_sa, v_s, gamma)\n",
    "    p_sa = policy_improvement(v_s, gamma)\n",
    "pi = policy(gamma)"
   ]
  },
  {
   "cell_type": "code",
   "execution_count": 102,
   "metadata": {},
   "outputs": [
    {
     "data": {
      "text/plain": [
       "array([[0, 0, 0, 0],\n",
       "       [1, 0, 0, 3],\n",
       "       [1, 1, 3, 3],\n",
       "       [1, 2, 2, 0]], dtype=int64)"
      ]
     },
     "execution_count": 102,
     "metadata": {},
     "output_type": "execute_result"
    }
   ],
   "source": [
    "pi.reshape((4, 4))"
   ]
  },
  {
   "cell_type": "code",
   "execution_count": 103,
   "metadata": {},
   "outputs": [
    {
     "data": {
      "text/plain": [
       "array([[      0.   , -119668.375, -176693.86 , -197046.77 ],\n",
       "       [-119668.375, -156340.95 , -176046.45 , -176693.86 ],\n",
       "       [-176693.86 , -176046.45 , -156340.95 , -119668.375],\n",
       "       [-197046.77 , -176693.86 , -119668.375,       0.   ]],\n",
       "      dtype=float32)"
      ]
     },
     "execution_count": 103,
     "metadata": {},
     "output_type": "execute_result"
    }
   ],
   "source": [
    "v_s.reshape((4, 4)).astype(np.float32)"
   ]
  },
  {
   "cell_type": "code",
   "execution_count": 33,
   "metadata": {},
   "outputs": [],
   "source": [
    "# Value iteration to solve the problem\n",
    "gamma = 0.99\n",
    "v_s = np.zeros(16)\n",
    "p_sa = np.zeros((16, 4)) * 0.25\n",
    "for _ in range(5):\n",
    "    v_s = bellman_operator(p_sa, v_s, gamma)\n",
    "    p_sa = policy_improvement(v_s, gamma)\n",
    "pi = policy(gamma)"
   ]
  },
  {
   "cell_type": "code",
   "execution_count": 34,
   "metadata": {},
   "outputs": [
    {
     "data": {
      "text/plain": [
       "array([[0, 0, 0, 0],\n",
       "       [1, 1, 0, 3],\n",
       "       [1, 1, 3, 3],\n",
       "       [2, 2, 2, 0]], dtype=int64)"
      ]
     },
     "execution_count": 34,
     "metadata": {},
     "output_type": "execute_result"
    }
   ],
   "source": [
    "pi.reshape((4, 4))"
   ]
  },
  {
   "cell_type": "code",
   "execution_count": 35,
   "metadata": {},
   "outputs": [
    {
     "data": {
      "text/plain": [
       "array([[   0,  -97, -134, -142],\n",
       "       [ -97, -127, -138, -134],\n",
       "       [-134, -138, -127,  -97],\n",
       "       [-142, -134,  -97,    0]])"
      ]
     },
     "execution_count": 35,
     "metadata": {},
     "output_type": "execute_result"
    }
   ],
   "source": [
    "v_s.reshape((4, 4)).astype(np.int32)"
   ]
  },
  {
   "cell_type": "code",
   "execution_count": null,
   "metadata": {},
   "outputs": [],
   "source": []
  }
 ],
 "metadata": {
  "kernelspec": {
   "display_name": "Python 3",
   "language": "python",
   "name": "python3"
  },
  "language_info": {
   "codemirror_mode": {
    "name": "ipython",
    "version": 3
   },
   "file_extension": ".py",
   "mimetype": "text/x-python",
   "name": "python",
   "nbconvert_exporter": "python",
   "pygments_lexer": "ipython3",
   "version": "3.5.5"
  }
 },
 "nbformat": 4,
 "nbformat_minor": 2
}
