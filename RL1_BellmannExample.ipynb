{
 "cells": [
  {
   "cell_type": "markdown",
   "metadata": {},
   "source": [
    "# Solving Bellmann equation on a simple example"
   ]
  },
  {
   "cell_type": "markdown",
   "metadata": {},
   "source": [
    "![gridworld](images/gridworld.png)"
   ]
  },
  {
   "cell_type": "code",
   "execution_count": 1,
   "metadata": {},
   "outputs": [],
   "source": [
    "import numpy as np"
   ]
  },
  {
   "cell_type": "code",
   "execution_count": 2,
   "metadata": {},
   "outputs": [],
   "source": [
    "# We need a matrix to store the transition probabilities. (transition matrix)\n",
    "\n",
    "T_sas = np.zeros((16, 16, 4)) # we have 16 states, 4 actions\n",
    "\n",
    "H = np.array([x for x in range(16)])\n",
    "T_sas[H, H - (H % 4 != 0), 0] = 1 # left\n",
    "T_sas[H, H - 4*(H-4 >= 0), 1] = 1 # up\n",
    "T_sas[H, H + ((H+1) % 4 != 0), 2] = 1 # right\n",
    "T_sas[H, H + 4*(H+4 < 16), 3] = 1 # down\n",
    "T_sas[0, :, :] = 0 # in the shaded area each action is pointless\n",
    "T_sas[0, 0, :] = 1\n",
    "T_sas[15, :, :] = 0\n",
    "T_sas[15, 15, :] = 1"
   ]
  },
  {
   "cell_type": "code",
   "execution_count": 3,
   "metadata": {},
   "outputs": [],
   "source": [
    "# reward\n",
    "r_sas = -np.ones((16, 16, 4))\n",
    "\n",
    "r_sas[0, 0, :] = 0\n",
    "r_sas[15, 15, :] = 0"
   ]
  },
  {
   "cell_type": "code",
   "execution_count": 4,
   "metadata": {},
   "outputs": [],
   "source": [
    "# Bellmann-equation\n",
    "def bellman_operator(p_sa, v_s, gamma=0.98):\n",
    "    rT = np.sum(r_sas * T_sas, 1)\n",
    "    rTpi = np.sum(rT * p_sa, 1)\n",
    "    \n",
    "    pi = p_sa.reshape(16, 1, 4).repeat(16, 1)\n",
    "    vT = np.sum(T_sas * pi, 2)\n",
    "    vTpi = np.matmul(vT, v_s) * gamma\n",
    "    return rTpi + vTpi"
   ]
  },
  {
   "cell_type": "code",
   "execution_count": 30,
   "metadata": {},
   "outputs": [],
   "source": [
    "# policy improvement\n",
    "def policy_improvement(v_s, gamma=0.98):\n",
    "    rT = np.sum(r_sas * T_sas, 1)\n",
    "    v = v_s.reshape(1, 16, 1).repeat(16, 0).repeat(4, 2)\n",
    "    pi_idx = np.argmax(rT + gamma * np.sum(T_sas * v, 1), 1)\n",
    "    pi = np.zeros((16, 4))\n",
    "    pi[np.array([x for x in range(16)]), pi_idx] = 1\n",
    "    return pi"
   ]
  },
  {
   "cell_type": "code",
   "execution_count": 31,
   "metadata": {},
   "outputs": [],
   "source": [
    "# value iteration step\n",
    "def value_iteration(gamma=0.98):\n",
    "    rT = np.sum(r_sas * T_sas, 1)\n",
    "    v = v_s.reshape(1, 16, 1).repeat(16, 0).repeat(4, 2)\n",
    "    return np.max(rT + gamma * np.sum(T_sas * v, 1), 1)"
   ]
  },
  {
   "cell_type": "code",
   "execution_count": 32,
   "metadata": {},
   "outputs": [],
   "source": [
    "# policy\n",
    "def policy(v_s, gamma=0.98):\n",
    "    rT = np.sum(r_sas * T_sas, 1)\n",
    "    v = v_s.reshape(1, 16, 1).repeat(16, 0).repeat(4, 2)\n",
    "    return np.argmax(rT + gamma * np.sum(T_sas * v, 1), 1)"
   ]
  },
  {
   "cell_type": "code",
   "execution_count": 48,
   "metadata": {},
   "outputs": [],
   "source": [
    "# policy evaluation and policy improvement\n",
    "gamma = 0.98\n",
    "v_s = np.zeros(16)\n",
    "p_sa = np.ones((16, 4)) * 0.25\n",
    "for _ in range(50):\n",
    "    for _ in range(20):\n",
    "        v_s = bellman_operator(p_sa, v_s, gamma)\n",
    "    p_sa = policy_improvement(v_s, gamma)\n",
    "pi = policy(v_s, gamma)"
   ]
  },
  {
   "cell_type": "code",
   "execution_count": 49,
   "metadata": {},
   "outputs": [
    {
     "data": {
      "text/plain": [
       "array([[0, 0, 0, 0],\n",
       "       [1, 0, 0, 3],\n",
       "       [1, 0, 2, 3],\n",
       "       [1, 2, 2, 0]], dtype=int64)"
      ]
     },
     "execution_count": 49,
     "metadata": {},
     "output_type": "execute_result"
    }
   ],
   "source": [
    "pi.reshape((4, 4))"
   ]
  },
  {
   "cell_type": "code",
   "execution_count": 50,
   "metadata": {},
   "outputs": [
    {
     "data": {
      "text/plain": [
       "array([[ 0.    , -1.    , -1.98  , -2.9404],\n",
       "       [-1.    , -1.98  , -2.9404, -1.98  ],\n",
       "       [-1.98  , -2.9404, -1.98  , -1.    ],\n",
       "       [-2.9404, -1.98  , -1.    ,  0.    ]], dtype=float32)"
      ]
     },
     "execution_count": 50,
     "metadata": {},
     "output_type": "execute_result"
    }
   ],
   "source": [
    "v_s.reshape((4, 4)).astype(np.float32)"
   ]
  },
  {
   "cell_type": "code",
   "execution_count": 66,
   "metadata": {},
   "outputs": [],
   "source": [
    "# Value iteration to solve the problem\n",
    "gamma = 0.9\n",
    "v_s = np.zeros(16)\n",
    "p_sa = np.zeros((16, 4)) * 0.25\n",
    "for _ in range(200):\n",
    "    v_s = bellman_operator(p_sa, v_s, gamma)\n",
    "    p_sa = policy_improvement(v_s, gamma)\n",
    "pi = policy(v_s, gamma)"
   ]
  },
  {
   "cell_type": "code",
   "execution_count": 67,
   "metadata": {},
   "outputs": [
    {
     "data": {
      "text/plain": [
       "array([[0, 0, 0, 0],\n",
       "       [1, 0, 0, 3],\n",
       "       [1, 0, 2, 3],\n",
       "       [1, 2, 2, 0]], dtype=int64)"
      ]
     },
     "execution_count": 67,
     "metadata": {},
     "output_type": "execute_result"
    }
   ],
   "source": [
    "pi.reshape((4, 4))"
   ]
  },
  {
   "cell_type": "code",
   "execution_count": 69,
   "metadata": {},
   "outputs": [
    {
     "data": {
      "text/plain": [
       "array([[ 0.  , -1.  , -1.9 , -2.71],\n",
       "       [-1.  , -1.9 , -2.71, -1.9 ],\n",
       "       [-1.9 , -2.71, -1.9 , -1.  ],\n",
       "       [-2.71, -1.9 , -1.  ,  0.  ]], dtype=float32)"
      ]
     },
     "execution_count": 69,
     "metadata": {},
     "output_type": "execute_result"
    }
   ],
   "source": [
    "v_s.reshape((4, 4)).astype(np.float32)"
   ]
  },
  {
   "cell_type": "code",
   "execution_count": null,
   "metadata": {},
   "outputs": [],
   "source": []
  }
 ],
 "metadata": {
  "kernelspec": {
   "display_name": "Python 3",
   "language": "python",
   "name": "python3"
  },
  "language_info": {
   "codemirror_mode": {
    "name": "ipython",
    "version": 3
   },
   "file_extension": ".py",
   "mimetype": "text/x-python",
   "name": "python",
   "nbconvert_exporter": "python",
   "pygments_lexer": "ipython3",
   "version": "3.5.5"
  }
 },
 "nbformat": 4,
 "nbformat_minor": 2
}
