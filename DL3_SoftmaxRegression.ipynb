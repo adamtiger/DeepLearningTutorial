{
 "cells": [
  {
   "cell_type": "markdown",
   "metadata": {},
   "source": [
    "# Softmax regression"
   ]
  },
  {
   "cell_type": "markdown",
   "metadata": {},
   "source": [
    "The first part discusses the theoretical background while the second part discusses an example on MNIST."
   ]
  },
  {
   "cell_type": "markdown",
   "metadata": {},
   "source": [
    "## Theoretical background"
   ]
  },
  {
   "cell_type": "markdown",
   "metadata": {},
   "source": [
    "Logistic regression is a binary classification method therefore it is useful for solving classification problems with two classes. If we want to solve a problem with $k>2$ classes we talk about multiclassification problems. Softmax regression is a method dealing with multiclassification problems. The idea is similar to the logistic regression but instead of a sigmoid function a softmax is applied.\n",
    "\n",
    "\\begin{equation*}\n",
    "s_\\Theta(x) = \\left[ \\frac{e^{\\Theta_1 x}}{\\sum_{i=1}^n{e^{\\Theta_i x}}}, ..., \\frac{e^{\\Theta_n x}}{\\sum_{i=1}^n{e^{\\Theta_i x}}} \\right]\n",
    "\\end{equation*}"
   ]
  },
  {
   "cell_type": "markdown",
   "metadata": {},
   "source": [
    "$x$ is the input vector while $\\Theta_i$ is a parameter vector. $\\Theta$is a matrix in which each row is parameter vector, therefore the number of rows are equal with the number of classes. $s_\\Theta$ is a vector as well, cotaining a probability value for each class. E.g.: \n",
    "\n",
    "\\begin{equation*}\n",
    "P\\left( y = j| x; \\Theta \\right) = \\frac{e^{\\Theta_j x}}{\\sum_{i=1}^n{e^{\\Theta_i x}}}\n",
    "\\end{equation*}\n",
    "\n",
    "For the whole training set $\\left( \\underline{x}, \\underline{y} \\right)$, the probability of a training set (assumed the samples are independent):\n",
    "\n",
    "\\begin{equation*}\n",
    "P\\left( \\underline{y}|\\underline{x}; \\Theta \\right) = \n",
    "\\Pi_{m=1}^M{\\Pi_{k=1}^K{\\left( \\frac{e^{\\Theta_k x^{(m)}}}{\\sum_{i=1}^n{e^{\\Theta_i x^{(m)}}}}\\right)^{I[y_k^{(m)}=1]}}}\n",
    "\\end{equation*}"
   ]
  },
  {
   "cell_type": "markdown",
   "metadata": {},
   "source": [
    "The $\\Theta$ parameter which maximizes this probability is the best. To find the maximum we can take the logarithm of P then calculate its gradient, finally a gradient ascent method can be applied to find the solution. It can be successful because the error surface (-P) is convex but the solution is not unique which makes a bit more difficult to converge. "
   ]
  },
  {
   "cell_type": "markdown",
   "metadata": {},
   "source": [
    "\\begin{equation*}\n",
    "J(\\Theta) = \\log P\\left( \\underline{y}|\\underline{x}; \\Theta \\right) = \n",
    "\\sum_{m=1}^M{\\sum_{k=1}^K{I[y_k^{(m)}=1] \\log \\left( \\frac{e^{\\Theta_k x^{(m)}}}{\\sum_{i=1}^n{e^{\\Theta_i x^{(m)}}}}\\right)}}\n",
    "\\end{equation*}"
   ]
  },
  {
   "cell_type": "markdown",
   "metadata": {},
   "source": [
    "The derivative of this:\n",
    "\n",
    "\\begin{equation*}\n",
    "\\nabla_\\Theta J(\\theta) = \\frac{\\partial}{\\partial \\Theta} \\log P =\n",
    "\\sum_{m=1}^M{ \\left( y^{(m)} - s_\\Theta \\left(x^{(m)} \\right) \\right) x^{(m)}}\n",
    "\\end{equation*}"
   ]
  },
  {
   "cell_type": "markdown",
   "metadata": {},
   "source": [
    "Then the update rule:\n",
    "\n",
    "\\begin{equation*}\n",
    "\\Theta_{t+1} = \\Theta_t + \\alpha \\cdot \\nabla_\\Theta J(\\Theta)\n",
    "\\end{equation*}"
   ]
  },
  {
   "cell_type": "markdown",
   "metadata": {},
   "source": [
    "## Softmax regression for MNIST"
   ]
  },
  {
   "cell_type": "code",
   "execution_count": 1,
   "metadata": {},
   "outputs": [],
   "source": [
    "from softmax_regression import softreg\n",
    "from pckutils import mnist\n",
    "import numpy as np\n",
    "from matplotlib import pyplot as plt\n",
    "import os"
   ]
  },
  {
   "cell_type": "markdown",
   "metadata": {},
   "source": [
    "### Loading MNIST data"
   ]
  },
  {
   "cell_type": "code",
   "execution_count": 2,
   "metadata": {},
   "outputs": [],
   "source": [
    "url_train_image = \"http://yann.lecun.com/exdb/mnist/train-images-idx3-ubyte.gz\"\n",
    "url_train_label = \"http://yann.lecun.com/exdb/mnist/train-labels-idx1-ubyte.gz\"\n",
    "url_test_image = \"http://yann.lecun.com/exdb/mnist/t10k-images-idx3-ubyte.gz\"\n",
    "url_test_label = \"http://yann.lecun.com/exdb/mnist/t10k-labels-idx1-ubyte.gz\""
   ]
  },
  {
   "cell_type": "code",
   "execution_count": 3,
   "metadata": {},
   "outputs": [],
   "source": [
    "# download packages if it was not downloaded\n",
    "train_imgs_file_name = \"data/training_mnist_imgs.gz\"\n",
    "train_lbls_file_name = \"data/training_mnist_lbls.gz\"\n",
    "test_imgs_file_name = \"data/test_mnist_imgs.gz\"\n",
    "test_lbls_file_name = \"data/test_mnist_lbls.gz\"\n",
    "\n",
    "# checking if a file exists\n",
    "train_I = os.path.exists(train_imgs_file_name)\n",
    "train_L = os.path.exists(train_lbls_file_name)\n",
    "test_I = os.path.exists(test_imgs_file_name)\n",
    "test_L = os.path.exists(test_lbls_file_name)\n",
    "\n",
    "if not train_I:\n",
    "    mnist.download(url_train_image, train_imgs_file_name)\n",
    "    mnist.unzip(train_imgs_file_name)\n",
    "    print(\"train_I done.\")\n",
    "    \n",
    "if not train_L:\n",
    "    mnist.download(url_train_label, train_lbls_file_name)\n",
    "    mnist.unzip(train_lbls_file_name)\n",
    "    print(\"train_L done.\")\n",
    "    \n",
    "if not test_I:\n",
    "    mnist.download(url_test_image, test_imgs_file_name)\n",
    "    mnist.unzip(test_imgs_file_name)\n",
    "    print(\"test_I done.\")\n",
    "    \n",
    "if not test_L:\n",
    "    mnist.download(url_test_label, test_lbls_file_name)\n",
    "    mnist.unzip(test_lbls_file_name)\n",
    "    print(\"test_L done.\")"
   ]
  },
  {
   "cell_type": "code",
   "execution_count": 4,
   "metadata": {},
   "outputs": [
    {
     "name": "stdout",
     "output_type": "stream",
     "text": [
      "2051 60000 28 28\n",
      "Reading images: [100%]\n",
      "2049 60000\n",
      "Reading labels: [100%]\n",
      "2051 10000 28 28\n",
      "Reading images: [100%]\n",
      "2049 10000\n",
      "Reading labels: [100%]\n"
     ]
    }
   ],
   "source": [
    "# load in the images and labels\n",
    "train_imgs_file_name = \"data/training_mnist_imgs.mnist\"\n",
    "train_lbls_file_name = \"data/training_mnist_lbls.mnist\"\n",
    "test_imgs_file_name = \"data/test_mnist_imgs.mnist\"\n",
    "test_lbls_file_name = \"data/test_mnist_lbls.mnist\"\n",
    "\n",
    "# training images\n",
    "mgb, num_train_imgs, rows, cols, x_train_s = mnist.read_img(train_imgs_file_name)\n",
    "assert mgb == 2051, \"Wrong magic number when training images were loaded!\"\n",
    "\n",
    "# training labels (number of labels are the same as number of images)\n",
    "mgb, _, y_train_s = mnist.read_label(train_lbls_file_name)\n",
    "assert mgb == 2049, \"Wrong magic number when training labels were loaded!\"\n",
    "\n",
    "# test images (test image size is the same)\n",
    "mgb, num_test_imgs, _, _, x_test_s = mnist.read_img(test_imgs_file_name)\n",
    "assert mgb == 2051, \"Wrong magic number when test images were loaded!\"\n",
    "\n",
    "# test labels\n",
    "mgb, _, y_test_s = mnist.read_label(test_lbls_file_name)\n",
    "assert mgb == 2049, \"Wrong magic number when test labels were loaded!\""
   ]
  },
  {
   "cell_type": "markdown",
   "metadata": {},
   "source": [
    "### Doing softmax regression"
   ]
  },
  {
   "cell_type": "code",
   "execution_count": 5,
   "metadata": {},
   "outputs": [],
   "source": [
    "# parameters\n",
    "data = (x_train_s, y_train_s)\n",
    "k = 10\n",
    "lr = 0.1\n",
    "max_iter = 400\n",
    "batch_size = 6000\n",
    "epoch = 1"
   ]
  },
  {
   "cell_type": "code",
   "execution_count": 6,
   "metadata": {},
   "outputs": [
    {
     "name": "stdout",
     "output_type": "stream",
     "text": [
      "Iterating: [100%]\n"
     ]
    }
   ],
   "source": [
    "theta, train_e = softreg.softmax_regression(data, k, lr, max_iter, batch_size, epoch=epoch, verbose=True)"
   ]
  },
  {
   "cell_type": "code",
   "execution_count": 7,
   "metadata": {},
   "outputs": [
    {
     "data": {
      "image/png": "[encoded data removed]",
      "text/plain": [
       "<Figure size 432x288 with 1 Axes>"
      ]
     },
     "metadata": {},
     "output_type": "display_data"
    }
   ],
   "source": [
    "# reporting learning curve\n",
    "plt.figure(1)\n",
    "x_axis_train = [x for x in range(len(train_e))]\n",
    "plt.plot(x_axis_train, train_e, 'ro')\n",
    "plt.show()"
   ]
  },
  {
   "cell_type": "code",
   "execution_count": 12,
   "metadata": {},
   "outputs": [
    {
     "name": "stdout",
     "output_type": "stream",
     "text": [
      "The error rate: 13.47%\n"
     ]
    }
   ],
   "source": [
    "# calculating error rate on the test set\n",
    "errors = 0.0\n",
    "for x, y in zip(x_test_s, y_test_s):\n",
    "    x = x/255.0\n",
    "    if np.argmax(softreg.predict(theta, x)) != y:\n",
    "        errors += 1.0\n",
    "\n",
    "error_rate = errors/num_test_imgs * 100.0\n",
    "print('The error rate: %.2f%%' %error_rate)"
   ]
  },
  {
   "cell_type": "code",
   "execution_count": null,
   "metadata": {},
   "outputs": [],
   "source": []
  }
 ],
 "metadata": {
  "kernelspec": {
   "display_name": "Python 3",
   "language": "python",
   "name": "python3"
  },
  "language_info": {
   "codemirror_mode": {
    "name": "ipython",
    "version": 3
   },
   "file_extension": ".py",
   "mimetype": "text/x-python",
   "name": "python",
   "nbconvert_exporter": "python",
   "pygments_lexer": "ipython3",
   "version": "3.5.5"
  }
 },
 "nbformat": 4,
 "nbformat_minor": 2
}
