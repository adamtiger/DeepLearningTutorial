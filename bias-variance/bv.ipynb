{
 "cells": [
  {
   "cell_type": "markdown",
   "metadata": {},
   "source": [
    "# Bias-variance trade-off"
   ]
  },
  {
   "cell_type": "markdown",
   "metadata": {},
   "source": [
    "The bias variance trade-off is the result of decoupling the squared error into three parts: bias, variance and noise. (See derivation later!) The meaning of them is the following:\n",
    "\n",
    "* **variance**: If we train our model on different datasets (but each dataset is from the same distribution), then we will get slightly different models. A more flexible model tend to posses higher variance.\n",
    "* **bias**: Choosing a concrete model causes limitations regarding the expressability. Therefore it can be an inherent difference between the model prediction and reality. A more flexible model has lower bias.\n",
    "* **noise**: Due to inperfections, the observed data will contain some noise. The error which comes from noise can not be reduced to zero."
   ]
  },
  {
   "cell_type": "markdown",
   "metadata": {},
   "source": [
    "Now, a derivation is provided for the bias and variance. First we will assume a squared loss function and we will show how to discouple the bias and variance terms. Lets introduce the following notations:\n",
    "\n",
    "* $y$ is the correct value in $x$.\n",
    "* $\\tilde{y}_i = f_i(x)$ is the predicted value in $x$ by a function, $f_i$, which was trained on the $i^{th}$ data set. Each data set is drawn from the same distribution.\n",
    "* The expectation (E) means the expectation over the trained functions. $E_f[f(x)] = \\frac{1}{n}\\sum_{f \\in F}{f(x)}$, where $n$ is the number of functions and $F$ is the set of trained functions.\n",
    "\n",
    "\\begin{equation*}\n",
    "\\epsilon = E_f \\left[(\\tilde{y} - y)^2 \\right]\n",
    "\\end{equation*}\n",
    "\n",
    "Here $\\tilde{y} = f(x)$ and $f \\in F$."
   ]
  },
  {
   "cell_type": "markdown",
   "metadata": {},
   "source": [
    "Rewrite the above formula:\n",
    "\n",
    "\\begin{align}\n",
    "\\epsilon &= E_f \\left[(\\tilde{y} - y)^2 \\right] \\\\\n",
    "\\epsilon &= E_f \\left[\\tilde{y}^2 \\right] - 2 \\cdot E_f \\left[\\tilde{y} \\right] E_f \\left[y\\right] + E_f \\left[y^2\\right] \\\\\n",
    "\\epsilon &= E_f \\left[\\tilde{y}^2\\right] - 2\\cdot E_f \\left[\\tilde{y}\\right] y + y^2\n",
    "\\end{align}"
   ]
  },
  {
   "cell_type": "markdown",
   "metadata": {},
   "source": [
    "The last step is true because the $y$ is independent from the training data sets.\n",
    "\n",
    "Now we can use the following formula:\n",
    "\n",
    "\\begin{equation*}\n",
    "Var_f \\left[ \\tilde{y} \\right] = E_f \\left[ \\left( \\tilde{y} - E_f \\left[ \\tilde{y} \\right] \\right)^2 \\right] = E_f \\left[ \\tilde{y}^2 \\right] - \\left( E_f\\left[ \\tilde{y} \\right] \\right)^2\n",
    "\\end{equation*}\n",
    "\n",
    "Therefore:\n",
    "\n",
    "\\begin{equation*}\n",
    "E_f \\left[\\tilde{y}^2\\right] = Var_f \\left[ \\tilde{y} \\right] + \\left( E_f\\left[ \\tilde{y} \\right] \\right)^2\n",
    "\\end{equation*}"
   ]
  },
  {
   "cell_type": "markdown",
   "metadata": {},
   "source": [
    "After that the following formula is given:\n",
    "\n",
    "\\begin{equation*}\n",
    "\\epsilon = \\underbrace{Var_f \\left[ \\tilde{y} \\right]}_{variance} + \\underbrace{\\left( E_f \\left[ \\tilde{y} \\right] - y \\right)^2}_{bias}\n",
    "\\end{equation*}"
   ]
  },
  {
   "cell_type": "markdown",
   "metadata": {},
   "source": [
    "## Some experiments"
   ]
  },
  {
   "cell_type": "markdown",
   "metadata": {},
   "source": [
    "Here is an example with linear regression to examplify the bias-variance trade-off. We generated more datasets from the same distribution and trained a linear model on it. Then we measured the losses and the rates of the variance and bias. We also used scikit learn to fit polynomials and check how the bias and variance changes with complexity. "
   ]
  },
  {
   "cell_type": "code",
   "execution_count": 1,
   "metadata": {},
   "outputs": [],
   "source": [
    "%matplotlib inline\n",
    "import linearregr as L\n",
    "from matplotlib import pyplot as plt\n",
    "from sklearn.linear_model import Ridge\n",
    "from sklearn.preprocessing import PolynomialFeatures\n",
    "from sklearn.pipeline import make_pipeline\n",
    "from numpy.random import seed"
   ]
  },
  {
   "cell_type": "markdown",
   "metadata": {},
   "source": [
    "### Linear regression example"
   ]
  },
  {
   "cell_type": "markdown",
   "metadata": {},
   "source": [
    "First, lets play around our linear regression code to see the effect of noise. Here are the steps:\n",
    "\n",
    "* generate n data from a linear model with noise\n",
    "* fit a linear model\n",
    "* compare the original and the fitted model\n",
    "* show the learning curve."
   ]
  },
  {
   "cell_type": "code",
   "execution_count": 2,
   "metadata": {},
   "outputs": [
    {
     "name": "stdout",
     "output_type": "stream",
     "text": [
      "Iterating: [10%]\r",
      "Iterating: [20%]\r",
      "Iterating: [30%]\r",
      "Iterating: [40%]\r",
      "Iterating: [50%]\r",
      "Iterating: [60%]\r",
      "Iterating: [70%]\r",
      "Iterating: [80%]\r",
      "Iterating: [90%]\r",
      "Iterating: [100%]\r\n"
     ]
    },
    {
     "data": {
      "image/png": "[encoded data removed]",
      "text/plain": [
       "<Figure size 432x288 with 3 Axes>"
      ]
     },
     "metadata": {},
     "output_type": "display_data"
    }
   ],
   "source": [
    "seed = 42\n",
    "n, a, b = 1000, 1.24, 0.24\n",
    "x, y = L.data_generator(n, lambda x: a *x + b, 0.0, 1.0, sigma=0.005)\n",
    "a_, b_, train_loss, test_loss = L.linear_regressor((x, y), lr=0.0005, max_iter=2000, split_ratio=0.7, verbose=True)\n",
    "\n",
    "f = lambda x: a * x + b\n",
    "f_ = lambda x: a_ * x + b_\n",
    "\n",
    "plt.figure(2)\n",
    "plt.subplot(311)\n",
    "plt.plot(x, y, 'yo')\n",
    "plt.subplot(312)\n",
    "plt.plot(x, f(x), 'b--', x, f_(x), 'r--')\n",
    "plt.subplot(313)\n",
    "train_loss_x = [temp[0] for temp in train_loss]\n",
    "train_loss_y = [temp[1] for temp in train_loss]\n",
    "\n",
    "test_loss_x = [temp[0] for temp in test_loss]\n",
    "test_loss_y = [temp[1] for temp in test_loss]\n",
    "\n",
    "plt.plot(train_loss_x, train_loss_y, 'g--', test_loss_x, test_loss_y, 'r--')\n",
    "\n",
    "plt.show()"
   ]
  },
  {
   "cell_type": "markdown",
   "metadata": {},
   "source": [
    "### Regularly used functions"
   ]
  },
  {
   "cell_type": "code",
   "execution_count": 4,
   "metadata": {},
   "outputs": [],
   "source": [
    "def data_set_generator(n, fn, num_datasets, x_min, x_max, sigmas):\n",
    "    print(\"Generating data sets.\")\n",
    "    data_sets = {}\n",
    "    for sigma in sigmas:\n",
    "        data_sets[sigma] = []\n",
    "        print(\"Sigma:\" + str(sigma))\n",
    "        for i in range(num_datasets):\n",
    "            x, y = L.data_generator(n, fn, x_min, x_max, sigma=sigma)\n",
    "            data_sets[sigma].append((x, y))\n",
    "            if (i + 1) % (num_datasets // 5) == 0:\n",
    "                print(\"Generating: [%d%%]\\r\" %int(100*(i + 1)/num_datasets), end=\"\")\n",
    "        print(\"\")\n",
    "    return data_sets"
   ]
  },
  {
   "cell_type": "code",
   "execution_count": 5,
   "metadata": {},
   "outputs": [],
   "source": [
    "def fit_linear_models(data_sets, lr, max_iter, split_ratio):\n",
    "    sigmas = data_sets.keys()\n",
    "    thetas = {}\n",
    "    \n",
    "    for sigma in sigmas:\n",
    "        thetas[sigma] = []\n",
    "        print(\"Sigma:\" + str(sigma))\n",
    "        for i, data in enumerate(data_sets[sigma]):\n",
    "            a, b, _, _ = L.linear_regressor(data, lr=lr, max_iter=max_iter, split_ratio=split_ratio, verbose=False)\n",
    "            thetas[sigma].append((a, b))\n",
    "            if (i + 1) % (len(data_sets[sigma]) // 20) == 0:\n",
    "                print(\"Fitting: [%d%%]\\r\" %int(100*(i + 1)/len(data_sets[sigma])), end=\"\")\n",
    "        print(\"\")\n",
    "    return thetas"
   ]
  },
  {
   "cell_type": "code",
   "execution_count": 6,
   "metadata": {},
   "outputs": [],
   "source": [
    "def fit_polynomials(data_sets, degrees, x_test):\n",
    "    ys_pred = {}\n",
    "    for degree in degrees:\n",
    "        ys_pred[degree] = []\n",
    "        print(\"Degree:\" + str(degree))\n",
    "        for i, data in enumerate(data_sets):\n",
    "            poly = make_pipeline(PolynomialFeatures(degree), Ridge(alpha=0.0))\n",
    "            poly.fit(data[0].reshape((-1, 1)), data[1])\n",
    "            y_test = poly.predict(x_test)\n",
    "            ys_pred[degree].append(y_test[0])\n",
    "            if (i + 1) % (len(data_sets) // 20) == 0:\n",
    "                print(\"Fitting: [%d%%]\\r\" %int(100*(i + 1)/len(data_sets)), end=\"\")\n",
    "        print(\"\")\n",
    "    return ys_pred"
   ]
  },
  {
   "cell_type": "markdown",
   "metadata": {},
   "source": [
    "**Experiment:** n = 10, number of datasets: 10000"
   ]
  },
  {
   "cell_type": "code",
   "execution_count": 7,
   "metadata": {},
   "outputs": [
    {
     "name": "stdout",
     "output_type": "stream",
     "text": [
      "Generating data sets.\n",
      "Sigma:0.02\n",
      "Generating: [100%]\n",
      "Sigma:0.01\n",
      "Generating: [100%]\n",
      "Sigma:0.002\n",
      "Generating: [100%]\n"
     ]
    }
   ],
   "source": [
    "n = 10\n",
    "a = 0.86\n",
    "b = 0.13\n",
    "num_datasets = 2000\n",
    "x_min = 0.0\n",
    "x_max = 1.0\n",
    "sigmas = [0.02, 0.01, 0.002]\n",
    "\n",
    "data_sets = data_set_generator(n, lambda x: a * x + b, num_datasets, x_min, x_max, sigmas)"
   ]
  },
  {
   "cell_type": "markdown",
   "metadata": {},
   "source": [
    "Plot a data set as an example with the right linear model"
   ]
  },
  {
   "cell_type": "code",
   "execution_count": 8,
   "metadata": {},
   "outputs": [
    {
     "data": {
      "image/png": "[encoded data removed]",
      "text/plain": [
       "<Figure size 432x288 with 3 Axes>"
      ]
     },
     "metadata": {},
     "output_type": "display_data"
    }
   ],
   "source": [
    "f = lambda x: a * x + b\n",
    "plt.figure(1)\n",
    "for i in range(3):\n",
    "    plt.subplot(130 + i + 1)\n",
    "    x = data_sets[sigmas[i]][0][0]\n",
    "    y = data_sets[sigmas[i]][0][1]\n",
    "    plt.plot(x, y, 'ro', x, f(x), 'k')\n",
    "plt.show()"
   ]
  },
  {
   "cell_type": "markdown",
   "metadata": {},
   "source": [
    "### Bias-variance for model complexity"
   ]
  },
  {
   "cell_type": "code",
   "execution_count": 39,
   "metadata": {},
   "outputs": [
    {
     "name": "stdout",
     "output_type": "stream",
     "text": [
      "Generating data sets.\n",
      "Sigma:0.01\n",
      "Generating: [20%]\r",
      "Generating: [40%]\r",
      "Generating: [60%]\r",
      "Generating: [80%]\r",
      "Generating: [100%]\r\n",
      "Sigma:0.005\n",
      "Generating: [20%]\r",
      "Generating: [40%]\r",
      "Generating: [60%]\r",
      "Generating: [80%]\r",
      "Generating: [100%]\r\n",
      "Sigma:0.001\n",
      "Generating: [20%]\r",
      "Generating: [40%]\r",
      "Generating: [60%]\r",
      "Generating: [80%]\r",
      "Generating: [100%]\r\n"
     ]
    }
   ],
   "source": [
    "# generating data\n",
    "n = 15\n",
    "a = 1.21\n",
    "b = 0.63\n",
    "fn = lambda x: a * x**4 + b\n",
    "num_datasets = 200\n",
    "x_min = 0.0\n",
    "x_max = 1.0\n",
    "sigmas = [0.01, 0.005, 0.001]\n",
    "\n",
    "data_sets = data_set_generator(n, fn, num_datasets, x_min, x_max, sigmas)"
   ]
  },
  {
   "cell_type": "code",
   "execution_count": 40,
   "metadata": {},
   "outputs": [
    {
     "name": "stdout",
     "output_type": "stream",
     "text": [
      "Degree:1\n",
      "Fitting: [100%]\n",
      "Degree:2\n",
      "Fitting: [100%]\n",
      "Degree:4\n",
      "Fitting: [100%]\n",
      "Degree:6\n",
      "Fitting: [100%]\n",
      "Degree:8\n",
      "Fitting: [100%]\n",
      "Degree:10\n",
      "Fitting: [100%]\n"
     ]
    }
   ],
   "source": [
    "# fitting polynomials with different degrees\n",
    "degrees = [1, 2, 4, 6, 8, 10]\n",
    "x_test = 0.53\n",
    "ys_pred = fit_polynomials(data_sets[sigmas[0]], degrees, x_test)"
   ]
  },
  {
   "cell_type": "code",
   "execution_count": 41,
   "metadata": {},
   "outputs": [],
   "source": [
    "# calculating the bias and variance\n",
    "y = fn(x_test)\n",
    "\n",
    "bias = []\n",
    "var = []\n",
    "for degree in degrees:\n",
    "    b, v = L.bias_var(np.array(ys_pred[degree]), y)\n",
    "    bias.append(b)\n",
    "    var.append(v)"
   ]
  },
  {
   "cell_type": "code",
   "execution_count": 42,
   "metadata": {},
   "outputs": [
    {
     "data": {
      "image/png": "[encoded data removed]",
      "text/plain": [
       "<Figure size 432x288 with 1 Axes>"
      ]
     },
     "metadata": {},
     "output_type": "display_data"
    }
   ],
   "source": [
    "plt.figure(3)\n",
    "plt.plot(degrees, bias, 'r+', degrees, var, 'bo')\n",
    "plt.show()"
   ]
  },
  {
   "cell_type": "code",
   "execution_count": null,
   "metadata": {},
   "outputs": [],
   "source": []
  }
 ],
 "metadata": {
  "kernelspec": {
   "display_name": "Python 3",
   "language": "python",
   "name": "python3"
  },
  "language_info": {
   "codemirror_mode": {
    "name": "ipython",
    "version": 3
   },
   "file_extension": ".py",
   "mimetype": "text/x-python",
   "name": "python",
   "nbconvert_exporter": "python",
   "pygments_lexer": "ipython3",
   "version": "3.5.5"
  }
 },
 "nbformat": 4,
 "nbformat_minor": 2
}
