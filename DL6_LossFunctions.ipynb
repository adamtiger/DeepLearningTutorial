{
 "cells": [
  {
   "cell_type": "markdown",
   "metadata": {},
   "source": [
    "# Loss Functions"
   ]
  },
  {
   "cell_type": "markdown",
   "metadata": {},
   "source": [
    "Loss functions are at least as important than the activation functions. Loss functions measure the difference between the expected result and the result recommended by the learning system. In this part we will get to know some loss functions and highlight there advantages and roles. Later we discuss problems like slow down. "
   ]
  },
  {
   "cell_type": "code",
   "execution_count": 2,
   "metadata": {},
   "outputs": [],
   "source": [
    "%matplotlib inline\n",
    "%config IPCompleter.greedy=True # this line is for autocomplete"
   ]
  },
  {
   "cell_type": "code",
   "execution_count": 3,
   "metadata": {},
   "outputs": [],
   "source": [
    "from multilayer_nn import activations as a\n",
    "from multilayer_nn import losses as L\n",
    "from matplotlib import pyplot as plt\n",
    "import numpy as np"
   ]
  },
  {
   "cell_type": "code",
   "execution_count": 4,
   "metadata": {},
   "outputs": [],
   "source": [
    "# show each loss function ..."
   ]
  },
  {
   "cell_type": "markdown",
   "metadata": {},
   "source": [
    "## Slow down"
   ]
  },
  {
   "cell_type": "markdown",
   "metadata": {},
   "source": [
    "The following example is from [Michael Nielsen's book](http://neuralnetworksanddeeplearning.com/). Here is an image for making clear the learning situation. It is quite similar than the one in the previous tutorial.\n",
    "\n",
    "![slowdown](https://drive.google.com/uc?export=download&id=1UTOkphhIQCw0xGDorVXcdld0Hs3AzvTn)"
   ]
  },
  {
   "cell_type": "markdown",
   "metadata": {},
   "source": [
    "The situation can be described as follows:\n",
    "\n",
    "* input: $x = 1$\n",
    "* expected output: $y = 0$\n",
    "* at the beginning: $W = 5$\n",
    "* learning rate: $\\alpha = 0.1$"
   ]
  },
  {
   "cell_type": "markdown",
   "metadata": {},
   "source": [
    "In the first case we use the MSE loss. Therefore the full equation for the loss:\n",
    "\n",
    "\\begin{equation}\n",
    "L_{mse} = \\frac{1}{2}\\left(0 - \\sigma(W \\cdot x) \\right)^2\n",
    "\\end{equation}\n",
    "\n",
    "where $\\sigma$ is the sigmoid function.\n",
    "\n",
    "In the second case we use the cross entropy (CE) loss:\n",
    "\n",
    "\\begin{equation}\n",
    "L_h = -(1 - 0) \\cdot \\log\\left( 1 - \\sigma(W \\cdot x) \\right).\n",
    "\\end{equation}\n",
    "\n",
    "The update rule:\n",
    "\n",
    "\\begin{equation}\n",
    "W_{t+1} = W_t - \\alpha \\cdot \\left. \\frac{\\partial L}{\\partial W}\\right|_{W = W_t}\n",
    "\\end{equation}\n",
    "\n",
    "where $L$ is either the MSE or the CE loss.\n",
    "\n",
    "Then the derivatives:\n",
    "\n",
    "\\begin{equation}\n",
    "\\frac{\\partial L_{mse}}{\\partial W} = \\sigma(W \\cdot x)^2 \\cdot \\left( 1 - \\sigma(W \\cdot x) \\right) \\cdot x,\n",
    "\\end{equation}\n",
    "\n",
    "\\begin{equation}\n",
    "\\frac{\\partial L_{ce}}{\\partial W} = \\sigma(W \\cdot x) \\cdot x.\n",
    "\\end{equation}"
   ]
  },
  {
   "cell_type": "code",
   "execution_count": 5,
   "metadata": {},
   "outputs": [],
   "source": [
    "sigma = lambda x: 1.0/(1.0 + np.exp(-x))\n",
    "x = 1\n",
    "alpha = 0.01\n",
    "\n",
    "# MSE\n",
    "L_mse = lambda w: 0.5 * (sigma(w * x))**2\n",
    "dL_mse = lambda w: (sigma(w * x))**2 * (1 - sigma(w * x)) * x\n",
    "\n",
    "# CE\n",
    "L_ce = lambda w: -np.log(1 - sigma(w * x))\n",
    "dL_ce = lambda w: sigma(w* x) * x"
   ]
  },
  {
   "cell_type": "code",
   "execution_count": 28,
   "metadata": {},
   "outputs": [
    {
     "data": {
      "text/plain": [
       "[<matplotlib.lines.Line2D at 0x15a577a1be0>]"
      ]
     },
     "execution_count": 28,
     "metadata": {},
     "output_type": "execute_result"
    },
    {
     "data": {
      "image/png": "[encoded data removed]",
      "text/plain": [
       "<Figure size 432x288 with 1 Axes>"
      ]
     },
     "metadata": {},
     "output_type": "display_data"
    }
   ],
   "source": [
    "# MSE\n",
    "x_axis = []\n",
    "y_axis = []\n",
    "W = 5\n",
    "for i in range(3000):\n",
    "    loss = L_mse(W)\n",
    "    d_loss = dL_mse(W)\n",
    "    \n",
    "    W = W - 0.1 * d_loss\n",
    "    x_axis.append(i)\n",
    "    y_axis.append(loss)\n",
    "plt.plot(x_axis, y_axis, 'bo')"
   ]
  },
  {
   "cell_type": "code",
   "execution_count": 29,
   "metadata": {},
   "outputs": [
    {
     "data": {
      "text/plain": [
       "[<matplotlib.lines.Line2D at 0x15a577897f0>]"
      ]
     },
     "execution_count": 29,
     "metadata": {},
     "output_type": "execute_result"
    },
    {
     "data": {
      "image/png": "[encoded data removed]",
      "text/plain": [
       "<Figure size 432x288 with 1 Axes>"
      ]
     },
     "metadata": {},
     "output_type": "display_data"
    }
   ],
   "source": [
    "# CE\n",
    "x_axis = []\n",
    "y_axis = []\n",
    "W = 5\n",
    "for i in range(300):\n",
    "    loss = L_ce(W)\n",
    "    d_loss = dL_ce(W)\n",
    "    \n",
    "    W = W - 0.1 * d_loss\n",
    "    x_axis.append(i)\n",
    "    y_axis.append(loss)\n",
    "plt.plot(x_axis, y_axis, 'yo')"
   ]
  },
  {
   "cell_type": "code",
   "execution_count": null,
   "metadata": {},
   "outputs": [],
   "source": []
  }
 ],
 "metadata": {
  "kernelspec": {
   "display_name": "Python 3",
   "language": "python",
   "name": "python3"
  },
  "language_info": {
   "codemirror_mode": {
    "name": "ipython",
    "version": 3
   },
   "file_extension": ".py",
   "mimetype": "text/x-python",
   "name": "python",
   "nbconvert_exporter": "python",
   "pygments_lexer": "ipython3",
   "version": "3.5.5"
  }
 },
 "nbformat": 4,
 "nbformat_minor": 2
}
