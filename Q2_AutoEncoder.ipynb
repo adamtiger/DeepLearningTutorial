{
 "cells": [
  {
   "cell_type": "markdown",
   "metadata": {},
   "source": [
    "# Auto-Encoder in Pytorch"
   ]
  },
  {
   "cell_type": "markdown",
   "metadata": {},
   "source": [
    "In this tutorial we will introduce and implement auto-encoders. An exaple is shown in the image below. "
   ]
  },
  {
   "cell_type": "markdown",
   "metadata": {},
   "source": [
    "![autoencoder](images/autoencoder.png)"
   ]
  },
  {
   "cell_type": "markdown",
   "metadata": {},
   "source": [
    "An encoder consists of three parts:\n",
    "\n",
    "1. encoder (higher dimension -(compress)- lower dimension)\n",
    "2. encoded layer \n",
    "3. decoder (lower dimension -(decompress)- higher dimension)"
   ]
  },
  {
   "cell_type": "markdown",
   "metadata": {},
   "source": [
    "The image also shows that the input and the expected output are the same. Therefore an autoencoder approximates an identity function for a specific input space (e.g.: MNIST images). The output of the autoencoder is called the reconstruction of the input and that motivates naming the corresponding loss as reconstruction loss."
   ]
  },
  {
   "cell_type": "markdown",
   "metadata": {},
   "source": [
    "The encoder contains bottleneck (in the image the encoded layer) which is smaller then the input. Therefore a successful reocnstruction is possible if the autoencoder manages to find a lower dimensional representation of the input space. This is because to reconstruct the original input at the output requires that all of the information is available for the reconstruction in the decoder. The information flows from layer to layer and it should not loss (at least radically). As a consequence the representation of the input is the most dense in the encoded layer because it is the smallest one."
   ]
  },
  {
   "cell_type": "markdown",
   "metadata": {},
   "source": [
    "Beyond a well-chosen architecture the loss and regularization are very important. There are different types of autoencoders. Basically there are two main groups, the first one is the undercomplete autoencoders and second one is the regularized autoencoders. Of course the second one is wider. Undercomplete autoencoder just uses a narrower encoded layer and a suitable loss function. On the other hand, regularized autoencoder uses a regularization on the *encoded layer*. The type of the used regularization technique differentiate the autoencoder types:\n",
    "\n",
    "* basic autoencoder\n",
    "* sparse autoencoder\n",
    "* contractive autoencoder\n",
    "* denoising autoencoder\n",
    "* variational autoencoder.\n",
    "\n",
    "And of course, it is possible to figure out new ones but these are the most common approaches. Let's go through them then implement the contractive autoencoder and the variational autoencoder. "
   ]
  },
  {
   "cell_type": "markdown",
   "metadata": {},
   "source": [
    "### Basic autoencoder\n",
    "\n",
    "Mostly, in the literature basic autoencoder has a one layer encoder and a one layer decoder with sigmoid activations. There is no regularization. Typical losses are Mean Squared Error (MSE) and Binary Cross-entropy (BCE). \n",
    "\n",
    "### Sparse autoencoder\n",
    "\n",
    "A sparse autoencoder tries creating sparse encodings. Sparse means that most of the values in the encodings are low, close to zero while some of them is high (that neuron is activated). This autoencoder can be good for (for example) creating features for further classifications. Losses: MSE, BCE. For regularization L1 and L2 or the most common one is a Kullback-Leibler divergence based term:\n",
    "\n",
    "\\begin{equation}\n",
    "L_r = \\sum_j^J{KL\\left(\\rho||\\rho_j\\right)} = \\sum_j^J{\\rho \\log{\\frac{\\rho}{\\rho_j}} + (1-\\rho) \\log{\\frac{1-\\rho}{1-\\rho_j}}},\n",
    "\\end{equation}\n",
    "\n",
    "where $\\rho_j$ is the average activation of the ($j^{th}$) neuron in the encoded layer, $\\rho$ is a small value (like 0.05) to enforce the unimportant nodes to be low and this forces the sparsity. \n",
    "\n",
    "\\begin{equation}\n",
    "\\rho_j = \\frac{1}{I}\\sum_i^I{a_j(x_i)},\n",
    "\\end{equation}\n",
    "\n",
    "here the summation goes over the number of samples in the training data (or batch in case of stochastic descent). \n",
    "\n",
    "### Contractive autoencoder\n",
    "\n",
    "The goal of the contractive autoencoder is to make the autoencoder less sensitive to noise or saying it in an other way, make it locally more resistent to small changes. This can help to achieve better generalization capabilities. Losses are MSE, BCE and others. The regularization term uses the Frobenius-norm of the so called Jacobian-matrix. The Jacobian-matrix shows how the output changes if the input changes a bit and the Frobenius-norm describes this sensitivity with one number. Now the details with some further explanation. Jacobi-matrix:\n",
    "\n",
    "\\begin{equation}\n",
    "J_{ij} = \\frac{\\partial y_i}{\\partial x_j}.\n",
    "\\end{equation}\n",
    "\n",
    "Such a matrix is the gradient of the so called vector-vector functions. As the name suggests in a vector-vector function the input is a vector and the output is a vector. In an autoencoder we have a multidimensional input, which can be represented by a vector, and the output is the activations in the encoded layer, which can be also represented by a vector. The elements of the Jacobian basically shows how the input-output element pairs relates in terms of a derivative. So a row of the matrix shows if we change a pixel in the input image (suppose it is gray scaled and it has only one channel) then how the activation value in each neurons of the encoded layers will change. \n",
    "\n",
    "The Frobenius-norm can be defiened as it induced by a vector norm, specifically the 2-norm. Here is the mathematical definition then the concrete one:\n",
    "\n",
    "\\begin{equation}\n",
    "|| A ||_F = \\sup_v \\frac{|| A v ||_2}{|| v ||_2}\n",
    "\\end{equation}\n",
    "\n",
    "\\begin{equation}\n",
    "|| A ||_F = \\left( \\sum_{i, j}{a^2_{ij}} \\right)^\\frac{1}{2}\n",
    "\\end{equation}\n",
    "\n",
    "Now the regularization term:\n",
    "\n",
    "\\begin{equation}\n",
    "L_r = \\left( \\sum_{i, j}{\\left(\\frac{\\partial y_i}{\\partial x_j}\\right)^2} \\right)^\\frac{1}{2}.\n",
    "\\end{equation}\n",
    "\n",
    "### Denoising autoencoder\n",
    "\n",
    "The goal of the denoising autoencoder is somewhat similar to the contractive autoencoder's. The denoising autoencoder helps to make the encoder more flexibel against noise and can prevent overfitting because the autoencoder never sees the same input again but a similar one. Here the data set is augmented by applying noise on the input when it is fed into the network. It is not typical to use regularization term as well.\n",
    "\n",
    "### Variational autoencoder\n",
    "\n",
    "This encoder is a generative model. This means that the result of the learning is a model which can be used to generate outputs like the inputs but from noise. So the training goes as in case of the autoencoders but then the encoded layer is not used as a compressed representation but instead we generate random values for the encoded layers and then propagate forward through the decoder. The result should be similar the samples in the training data sets. (This is implemented in the codes below.) Let's see how does it work! \n",
    "\n",
    "Here the regularization term and the structure of the encoded layer is important. The reconstruction loss can be anything but usually it is MSE or BCE (in the implementation we will use BCE). \n",
    "\n",
    "Now we introduce briefly how VAE works and more theoretical details can be seen at the end of this tutorial. The total loss function in a VAE ($\\overline{x}$ is the output): \n",
    "\n",
    "\\begin{equation}\n",
    "L = BCE(x, \\overline{x}) + KL\\left( q(z|x)||p(z) \\right).\n",
    "\\end{equation}\n",
    "\n",
    "$p(z)$ is chosen as a standard normal distribution ($N(0, 1)$). $q(z|x)$ is given by the encoder. But it is difficult to generate a distribution directly therefore we use normal distribution and the encoder layer approximates the mean and the standard deviation. Both of them is a vector. Basically the encoder has two output vectors, the mean and the standard deviation. \n",
    "\n",
    "Calculating the Kullback-Leibler divergence between normal-distributions can be calculated in a close formed (now $\\mu$, $\\sigma$ is just a scalar):\n",
    "\n",
    "\\begin{equation}\n",
    "KL\\left( N(\\mu, \\sigma) || N(0, 1) \\right) = \\frac{1}{2} (\\mu^2 + \\sigma^2 - 1 - \\log\\sigma^2).\n",
    "\\end{equation}\n",
    "\n",
    "Because we have distribution in the encoded layer we need to sample a vector from $N(\\mu, \\sigma)$ but with a direct sampling the backpropagation would not be possible. Therefore we apply the so called reparametrization trick. So:\n",
    "\n",
    "\\begin{align}\n",
    "\\epsilon \\leftarrow N(0, 1) \\\\\n",
    "z = \\mu + \\sigma \\cdot \\epsilon.\n",
    "\\end{align}\n",
    "\n",
    "$z$ is the sampled vector and this will be fed into the decoder part. The image below summarizes the structure of the VAE. $\\mu$ and $\\sigma$ have the same size. \n",
    "\n",
    "![vae](images/vae.png)"
   ]
  },
  {
   "cell_type": "markdown",
   "metadata": {},
   "source": [
    "References: \n",
    "\n",
    "[Contractive autoencoder](http://www.icml-2011.org/papers/455_icmlpaper.pdf)\n",
    "[Variational autoencoder](https://arxiv.org/pdf/1606.05908.pdf)"
   ]
  },
  {
   "cell_type": "markdown",
   "metadata": {},
   "source": [
    "## Implementation"
   ]
  },
  {
   "cell_type": "markdown",
   "metadata": {},
   "source": [
    "In the implementation first we are dealing with the CAE and two ways how to calculate the Frobenius-norm. The second implementation is the VAE. We will see that the CAE can easily solve the reconstruction but it is hardly able to generate new numbers however the VAE is able to reconstruct and generate new images from noise. "
   ]
  },
  {
   "cell_type": "code",
   "execution_count": 1,
   "metadata": {},
   "outputs": [],
   "source": [
    "%matplotlib inline\n",
    "%config IPCompleter.greedy=True"
   ]
  },
  {
   "cell_type": "code",
   "execution_count": 2,
   "metadata": {},
   "outputs": [],
   "source": [
    "import torch\n",
    "import torch.nn as nn\n",
    "import torch.nn.functional as F\n",
    "import torch.optim as optim\n",
    "from torch.autograd import grad\n",
    "from torch.utils.data import TensorDataset, DataLoader\n",
    "from pckutils import mnist, utils\n",
    "import json\n",
    "from matplotlib import pyplot as plt\n",
    "import time\n",
    "import psutil"
   ]
  },
  {
   "cell_type": "markdown",
   "metadata": {},
   "source": [
    "## Checking gradients of CAE"
   ]
  },
  {
   "cell_type": "code",
   "execution_count": 3,
   "metadata": {},
   "outputs": [],
   "source": [
    "class AutoGradCAE(nn.Module):\n",
    "    \n",
    "    def __init__(self, in_f, out_f):\n",
    "        super(AutoGradCAE, self).__init__()\n",
    "        self.in_fetaures = in_f\n",
    "        self.out_features = out_f\n",
    "        \n",
    "        # important to create here all the function which contains parameters to be trained\n",
    "        # otherwise model.parameters() would return an empty list\n",
    "        self.lin_enc = nn.Linear(self.in_fetaures, self.out_features)\n",
    "        self.lin_dec = nn.Linear(self.out_features, self.in_fetaures)\n",
    "    \n",
    "    def forward(self, x):\n",
    "        x.requires_grad=True\n",
    "        self.y_enc = torch.sigmoid(self.lin_enc(x))\n",
    "        self.ae_reg = self.__jacobi(x, self.y_enc)\n",
    "        y_out = torch.sigmoid(self.lin_dec(self.y_enc))\n",
    "        return y_out\n",
    "    \n",
    "    def __jacobi(self, x, y):\n",
    "        j_frobenius = 0.0\n",
    "        for b in range(x.size(0)):\n",
    "            for i in range(self.out_features):\n",
    "                # creat_graph is important because we will calculate the gradient of j_frobenius according to model parameters\n",
    "                gradients = grad(y[b, i], x, retain_graph=True, create_graph=True)[0] \n",
    "                j_frobenius += gradients.pow(2).sum()\n",
    "        return j_frobenius"
   ]
  },
  {
   "cell_type": "code",
   "execution_count": 4,
   "metadata": {},
   "outputs": [],
   "source": [
    "x = torch.rand((1, 20), requires_grad=True)\n",
    "bae = AutoGradCAE(20, 5)\n",
    "y = bae(x)"
   ]
  },
  {
   "cell_type": "code",
   "execution_count": 5,
   "metadata": {},
   "outputs": [
    {
     "data": {
      "text/plain": [
       "tensor(0.1207, grad_fn=<ThAddBackward>)"
      ]
     },
     "execution_count": 5,
     "metadata": {},
     "output_type": "execute_result"
    }
   ],
   "source": [
    "bae.ae_reg"
   ]
  },
  {
   "cell_type": "code",
   "execution_count": 6,
   "metadata": {},
   "outputs": [],
   "source": [
    "ws = []\n",
    "for p in bae.parameters():\n",
    "    ws.append(p.data)"
   ]
  },
  {
   "cell_type": "code",
   "execution_count": 7,
   "metadata": {},
   "outputs": [],
   "source": [
    "criterion = nn.MSELoss()\n",
    "loss = criterion(y, x) + bae.ae_reg\n",
    "bae.zero_grad()\n",
    "loss.backward()"
   ]
  },
  {
   "cell_type": "code",
   "execution_count": 8,
   "metadata": {},
   "outputs": [],
   "source": [
    "# derivative of Jacobi term according to W and b\n",
    "w = ws[0]\n",
    "w.requires_grad=True\n",
    "b = ws[1]\n",
    "b.requires_grad=True\n",
    "\n",
    "s = torch.sigmoid(torch.matmul(w, x[0]) + b)\n",
    "ou = torch.matmul(torch.diag(s * (1-s)), w).norm().pow(2) # manual calculation of the Frobenius norm of the Jacobian\n",
    "j_w = grad(ou, w, retain_graph=True)[0]\n",
    "j_b = grad(ou, b, retain_graph=True)[0]"
   ]
  },
  {
   "cell_type": "code",
   "execution_count": 9,
   "metadata": {},
   "outputs": [],
   "source": [
    "# derivative according to the decoder W and b parameters\n",
    "sigm_deriv = y[0] * (1-y[0])\n",
    "sigm_jacobi = torch.diag(sigm_deriv)\n",
    "dec_b = torch.matmul(y[0]-x[0], sigm_jacobi) * 2\n",
    "dec_w = torch.ger(dec_b, bae.y_enc[0])\n",
    "\n",
    "# derivative according to the encoder W and b parameters\n",
    "delta = torch.matmul(torch.matmul((y[0]-x[0]), sigm_jacobi), ws[2])\n",
    "enc_b = torch.matmul(delta, torch.diag(bae.y_enc[0] * (1-bae.y_enc[0]))) * 2\n",
    "enc_w = torch.ger(enc_b, x[0])"
   ]
  },
  {
   "cell_type": "code",
   "execution_count": 10,
   "metadata": {},
   "outputs": [
    {
     "name": "stdout",
     "output_type": "stream",
     "text": [
      "Gradients are OK!\n"
     ]
    }
   ],
   "source": [
    "for p, calc_grad in zip(bae.parameters(), [enc_w + j_w, enc_b + j_b, dec_w, dec_b]):\n",
    "    assert torch.le(torch.abs(p.grad - calc_grad), 1e-7).sum() == calc_grad.numel()\n",
    "print('Gradients are OK!')"
   ]
  },
  {
   "cell_type": "markdown",
   "metadata": {},
   "source": [
    "## MNIST example for CAE and VAE"
   ]
  },
  {
   "cell_type": "markdown",
   "metadata": {},
   "source": [
    "Read the MNIST dataset. "
   ]
  },
  {
   "cell_type": "code",
   "execution_count": 11,
   "metadata": {},
   "outputs": [
    {
     "name": "stdout",
     "output_type": "stream",
     "text": [
      "2051 60000 28 28\n",
      "Reading images: [100%]\n",
      "2049 60000\n",
      "Reading labels: [100%]\n",
      "2051 10000 28 28\n",
      "Reading images: [100%]\n",
      "2049 10000\n",
      "Reading labels: [100%]\n"
     ]
    }
   ],
   "source": [
    "data = mnist.load_mnist('data')"
   ]
  },
  {
   "cell_type": "code",
   "execution_count": 12,
   "metadata": {},
   "outputs": [],
   "source": [
    "x_binary = utils.create_binary_image(data.X_train)\n",
    "X = torch.Tensor(x_binary)\n",
    "tensors = TensorDataset(X)\n",
    "trainloader = DataLoader(tensors, batch_size=128, shuffle=True)"
   ]
  },
  {
   "cell_type": "markdown",
   "metadata": {},
   "source": [
    "### CAE"
   ]
  },
  {
   "cell_type": "markdown",
   "metadata": {},
   "source": [
    "Unfortunately, calculating the gradient with autograd is too time consuming and requires much more memory then it is reasonable. To see this lets try it on the following example with random inputs and measure the time of execution."
   ]
  },
  {
   "cell_type": "code",
   "execution_count": 13,
   "metadata": {},
   "outputs": [],
   "source": [
    "# generate random data (MNIST is difficult to run due to its huge memory requirements)\n",
    "rt = torch.round(torch.rand(128, 100))\n",
    "random_ts = TensorDataset(rt)\n",
    "rand_trainloader = DataLoader(random_ts, batch_size=16, shuffle=True)"
   ]
  },
  {
   "cell_type": "code",
   "execution_count": 16,
   "metadata": {},
   "outputs": [
    {
     "name": "stdout",
     "output_type": "stream",
     "text": [
      "[ 10,   8] loss_reg: 0.003  loss_rec: 158.518\n",
      "Ellapsed time: 14.01964, memory: 40.19\n"
     ]
    }
   ],
   "source": [
    "def train_ae(ae, trainloader, lr, beta, device):\n",
    "    ae.device = device\n",
    "    criterion = nn.MSELoss()\n",
    "    optimizer = optim.Adam(ae.parameters(), lr=lr)\n",
    "    running_loss_reg = 0.0\n",
    "    running_loss_rec = 0.0\n",
    "    cntr = 0\n",
    "    \n",
    "    vmem = 0.0\n",
    "    start = time.clock()\n",
    "    for epoch in range(10):\n",
    "        for i, batch in enumerate(trainloader, 1):\n",
    "            cntr += 1\n",
    "            \n",
    "            optimizer.zero_grad()\n",
    "            x = batch[0]\n",
    "            x = x.to(device)\n",
    "        \n",
    "            y = ae(x)\n",
    "            loss_reg = beta * ae.ae_reg\n",
    "            loss_rec = criterion(y, x)\n",
    "            loss = loss_reg + loss_rec\n",
    "            loss.backward()\n",
    "            vmem += psutil.virtual_memory()[2]\n",
    "            optimizer.step()\n",
    "        \n",
    "            running_loss_reg += loss_reg.item()\n",
    "            running_loss_rec += loss_rec.item()\n",
    "        if (epoch + 1) % 10 == 0:\n",
    "            print('[%3d, %3d] loss_reg: %.3f  loss_rec: %.3f' %\n",
    "                (epoch + 1, i, running_loss_reg / 200, running_loss_rec / 200))\n",
    "            running_loss_reg = 0.0\n",
    "            running_loss_rec = 0.0\n",
    "    end = time.clock()\n",
    "\n",
    "    print(\"Ellapsed time: %.5f, memory: %.2f\" %(end - start, vmem/cntr))\n",
    "\n",
    "device = torch.device(\"cpu\")\n",
    "ae = AutoGradCAE(100, 50).to(device)\n",
    "train_ae(ae, rand_trainloader, 1e-3, 5e-4, device)"
   ]
  },
  {
   "cell_type": "markdown",
   "metadata": {},
   "source": [
    "To speed up we need calculating the gradient by input manually in **batch** mode. "
   ]
  },
  {
   "cell_type": "code",
   "execution_count": 17,
   "metadata": {},
   "outputs": [],
   "source": [
    "class MNISTautoencoderCAE(nn.Module):\n",
    "    \n",
    "    def __init__(self, in_f, out_f):\n",
    "        super(MNISTautoencoderCAE, self).__init__()\n",
    "        self.in_f = in_f\n",
    "        self.out_f = out_f\n",
    "        \n",
    "        self.lin_enc = nn.Linear(in_f, out_f)\n",
    "        self.lin_dec = nn.Linear(out_f, in_f)\n",
    "        \n",
    "    def forward(self, x):\n",
    "        '''\n",
    "        x - batch_size x in_f\n",
    "        '''\n",
    "        y_encoded = torch.sigmoid(self.lin_enc(x))\n",
    "        self.ae_reg = self.jacobi_loss_calc(y_encoded)\n",
    "        y_out = torch.sigmoid(self.lin_dec(y_encoded))\n",
    "        return y_out\n",
    "    \n",
    "    def jacobi_loss_calc(self, y):\n",
    "        sigmoid_der = y * (1-y)\n",
    "        w = list(self.lin_enc.parameters())[0]\n",
    "        sigmoid_der_2 = sigmoid_der**2\n",
    "        w_2 = w**2\n",
    "        return torch.sum(torch.matmul(sigmoid_der_2, w_2))\n",
    "    \n",
    "    def generate_image(self):\n",
    "        x_random = torch.rand(self.out_f)\n",
    "        return torch.sigmoid(self.lin_dec(x_random))\n",
    "    \n",
    "    def generate_image_from_random(self, x_random):\n",
    "        return torch.sigmoid(self.lin_dec(x_random))"
   ]
  },
  {
   "cell_type": "markdown",
   "metadata": {},
   "source": [
    "### Checking if this simpler form is right"
   ]
  },
  {
   "cell_type": "code",
   "execution_count": 18,
   "metadata": {},
   "outputs": [],
   "source": [
    "x = torch.rand((32, 20))*20\n",
    "mae = MNISTautoencoderCAE(20, 5)\n",
    "bae = AutoGradCAE(20, 5)\n",
    "\n",
    "for mae_p, bae_p in zip(mae.parameters(), bae.parameters()):\n",
    "    mae_p.data = bae_p.data"
   ]
  },
  {
   "cell_type": "code",
   "execution_count": 19,
   "metadata": {},
   "outputs": [
    {
     "data": {
      "text/plain": [
       "tensor(1, dtype=torch.uint8)"
      ]
     },
     "execution_count": 19,
     "metadata": {},
     "output_type": "execute_result"
    }
   ],
   "source": [
    "mae_y = mae(x).data\n",
    "bae_y = bae(x).data\n",
    "torch.eq(mae_y, bae_y).sum() == torch.numel(mae_y)"
   ]
  },
  {
   "cell_type": "code",
   "execution_count": 20,
   "metadata": {},
   "outputs": [
    {
     "data": {
      "text/plain": [
       "0.965726375579834"
      ]
     },
     "execution_count": 20,
     "metadata": {},
     "output_type": "execute_result"
    }
   ],
   "source": [
    "mae.ae_reg.item()"
   ]
  },
  {
   "cell_type": "code",
   "execution_count": 21,
   "metadata": {},
   "outputs": [
    {
     "data": {
      "text/plain": [
       "0.9657263159751892"
      ]
     },
     "execution_count": 21,
     "metadata": {},
     "output_type": "execute_result"
    }
   ],
   "source": [
    "bae.ae_reg.item()"
   ]
  },
  {
   "cell_type": "markdown",
   "metadata": {},
   "source": [
    "### Measuring ellapsed time during training"
   ]
  },
  {
   "cell_type": "code",
   "execution_count": 22,
   "metadata": {},
   "outputs": [
    {
     "name": "stdout",
     "output_type": "stream",
     "text": [
      "[ 10,   8] loss_reg: 0.002  loss_rec: 0.099\n",
      "Ellapsed time: 0.07559, memory: 40.10\n"
     ]
    }
   ],
   "source": [
    "device = torch.device(\"cpu\")\n",
    "ae = MNISTautoencoderCAE(100, 50).to(device)\n",
    "train_ae(ae, rand_trainloader, 1e-3, 5e-4, device)"
   ]
  },
  {
   "cell_type": "markdown",
   "metadata": {},
   "source": [
    "This is much faster. If you try it with the MNIST dataset you can experience running out of memory in case of the autograd-based implementation!"
   ]
  },
  {
   "cell_type": "markdown",
   "metadata": {},
   "source": [
    "### VAE"
   ]
  },
  {
   "cell_type": "code",
   "execution_count": 10,
   "metadata": {},
   "outputs": [],
   "source": [
    "class MNISTautoencoderVAE(nn.Module):\n",
    "    \n",
    "    def __init__(self, feature_in, feature_out):\n",
    "        super(MNISTautoencoderVAE, self).__init__()\n",
    "        self.feature_in = feature_in\n",
    "        self.feature_out = feature_out\n",
    "        \n",
    "        self.lin_enc1 = nn.Linear(feature_in, 600)\n",
    "        self.lin_enc2 = nn.Linear(600, 500)\n",
    "        self.lin_enc_mu = nn.Linear(500, feature_out)\n",
    "        self.lin_enc_std = nn.Linear(500, feature_out)\n",
    "        \n",
    "        self.lin_dec1 = nn.Linear(feature_out, 500)\n",
    "        self.lin_dec2 = nn.Linear(500, 600)\n",
    "        self.lin_dec3 = nn.Linear(600, feature_in)\n",
    "        \n",
    "        self.ae_reg = 0.0\n",
    "        self.device = 0.0\n",
    "        \n",
    "    def forward(self, x):\n",
    "        # encoder part\n",
    "        x_ = torch.relu(self.lin_enc1(x))\n",
    "        x_ = torch.relu(self.lin_enc2(x_))\n",
    "        mu = torch.tanh(self.lin_enc_mu(x_))\n",
    "        std = torch.relu(self.lin_enc_std(x_)) + 1e-8\n",
    "        samples = torch.normal(torch.zeros(mu.size(0), self.feature_out), torch.ones(mu.size(0), self.feature_out)).to(self.device)\n",
    "        self.u = mu + std * samples\n",
    "        \n",
    "        # calculate the regularization part\n",
    "        self.ae_reg = self.calculate_reg(mu, std)\n",
    "        \n",
    "        # decoder\n",
    "        y_ = torch.relu(self.lin_dec1(self.u))\n",
    "        y_ = torch.relu(self.lin_dec2(y_))\n",
    "        return torch.sigmoid(self.lin_dec3(y_))\n",
    "    \n",
    "    def calculate_reg(self, mu, std):\n",
    "        kl_div = 0.5 * (std*std + mu*mu - 1.0 - torch.log(std*std))\n",
    "        return kl_div.sum()/mu.size(0) # devide by the batch_size\n",
    "    \n",
    "    def generate_image(self):\n",
    "        x_random = torch.normal(torch.zeros(self.feature_out), torch.ones(self.feature_out)).to(self.device)\n",
    "        y_ = torch.relu(self.lin_dec1(x_random))\n",
    "        y_ = torch.relu(self.lin_dec2(y_))\n",
    "        return torch.sigmoid(self.lin_dec3(y_))"
   ]
  },
  {
   "cell_type": "markdown",
   "metadata": {},
   "source": [
    "### Training the autoencoder"
   ]
  },
  {
   "cell_type": "code",
   "execution_count": 11,
   "metadata": {},
   "outputs": [
    {
     "name": "stdout",
     "output_type": "stream",
     "text": [
      "[ 10, 469] loss_reg: 17.825  loss_rec: 3.742\n",
      "[ 20, 469] loss_reg: 5.819  loss_rec: 3.308\n",
      "[ 30, 469] loss_reg: 1.797  loss_rec: 3.439\n",
      "[ 40, 469] loss_reg: 1.361  loss_rec: 3.416\n",
      "[ 50, 469] loss_reg: 1.368  loss_rec: 3.381\n",
      "[ 60, 469] loss_reg: 1.373  loss_rec: 3.355\n"
     ]
    }
   ],
   "source": [
    "device = torch.device(\"cuda:0\")\n",
    "mae = MNISTautoencoderVAE(28*28, 400).to(device)\n",
    "mae.device = device\n",
    "criterion = nn.BCELoss()\n",
    "optimizer = optim.Adam(mae.parameters(), lr=1e-3)\n",
    "running_loss_reg = 0.0\n",
    "running_loss_rec = 0.0\n",
    "\n",
    "for epoch in range(60):\n",
    "    for i, batch in enumerate(trainloader, 1):\n",
    "        \n",
    "        optimizer.zero_grad()\n",
    "        \n",
    "        x = batch[0]\n",
    "        x = x.to(device)\n",
    "        \n",
    "        y = mae(x)\n",
    "        loss_reg = 5e-4*mae.ae_reg\n",
    "        loss_rec = criterion(y, x)\n",
    "        loss = loss_reg + loss_rec\n",
    "        loss.backward()\n",
    "        optimizer.step()\n",
    "        \n",
    "        running_loss_reg += loss_reg.item()\n",
    "        running_loss_rec += loss_rec.item()\n",
    "    if (epoch+1) % 10 == 0:\n",
    "        print('[%3d, %3d] loss_reg: %.3f  loss_rec: %.3f' %\n",
    "            (epoch + 1, i, running_loss_reg / 200, running_loss_rec / 200))\n",
    "        running_loss_reg = 0.0\n",
    "        running_loss_rec = 0.0"
   ]
  },
  {
   "cell_type": "code",
   "execution_count": null,
   "metadata": {},
   "outputs": [],
   "source": [
    "# save the weights\n",
    "weights = list(map(lambda x: x.detach().numpy().reshape((28, 28)), mae.parameters()))\n",
    "utils.save_parameters(weights, \"weights/Autoencoder.json\")"
   ]
  },
  {
   "cell_type": "code",
   "execution_count": null,
   "metadata": {},
   "outputs": [],
   "source": [
    "# load the weights if necessary\n",
    "weights = utils.load_parameters(\"weights/Autoencoder.json\")\n",
    "mae = MNISTautoencoderCAE(28*28, 400)\n",
    "pms = list(map(torch.from_numpy, weights))\n",
    "\n",
    "for i, p in enumerate(mae.parameters()):\n",
    "    p.data = pms[i]"
   ]
  },
  {
   "cell_type": "markdown",
   "metadata": {},
   "source": [
    "### Checking input and output visually"
   ]
  },
  {
   "cell_type": "code",
   "execution_count": 12,
   "metadata": {},
   "outputs": [],
   "source": [
    "x_test = utils.create_binary_image([data.X_test[12]])\n",
    "y = mae(torch.tensor(x_test[0]).view(1, -1).to(device))"
   ]
  },
  {
   "cell_type": "code",
   "execution_count": 13,
   "metadata": {},
   "outputs": [
    {
     "data": {
      "text/plain": [
       "<matplotlib.image.AxesImage at 0x2ab81107a90>"
      ]
     },
     "execution_count": 13,
     "metadata": {},
     "output_type": "execute_result"
    },
    {
     "data": {
      "image/png": "[encoded data removed]",
      "text/plain": [
       "<Figure size 432x288 with 1 Axes>"
      ]
     },
     "metadata": {},
     "output_type": "display_data"
    }
   ],
   "source": [
    "plt.imshow(y.cpu().detach().numpy().reshape((28, 28)), cmap='gray')"
   ]
  },
  {
   "cell_type": "code",
   "execution_count": 14,
   "metadata": {},
   "outputs": [
    {
     "data": {
      "text/plain": [
       "<matplotlib.image.AxesImage at 0x2ab810bcd30>"
      ]
     },
     "execution_count": 14,
     "metadata": {},
     "output_type": "execute_result"
    },
    {
     "data": {
      "image/png": "[encoded data removed]",
      "text/plain": [
       "<Figure size 432x288 with 1 Axes>"
      ]
     },
     "metadata": {},
     "output_type": "display_data"
    }
   ],
   "source": [
    "plt.imshow(x_test[0].reshape((28, 28)), cmap='gray')"
   ]
  },
  {
   "cell_type": "code",
   "execution_count": 56,
   "metadata": {},
   "outputs": [
    {
     "data": {
      "image/png": "[encoded data removed]",
      "text/plain": [
       "<Figure size 432x288 with 1 Axes>"
      ]
     },
     "metadata": {},
     "output_type": "display_data"
    }
   ],
   "source": [
    "# variational encoder for generating numbers\n",
    "img = mae.generate_image()\n",
    "plt.imshow(img.cpu().detach().numpy().reshape((28, 28)), cmap='gray')"
   ]
  },
  {
   "cell_type": "markdown",
   "metadata": {},
   "source": [
    "## Derivations for VAE"
   ]
  },
  {
   "cell_type": "markdown",
   "metadata": {},
   "source": [
    "Let's suppose we know the joint distribution of x and z, p(x, z). Then we can calculate p(x) and p(z) as marginal probabilities by summing out the z and x, respectively. Basically the task of the autoencoder is to learn a mapping between z and x ($x\\rightarrow z$). We do not know the exact formula but we can approximate the distribution. The correct mapping we do not know is $p(z|x)$ and its approximation is $q(z|x)$. Then what we want is to minimize the difference between them. The KL divergence can express this:\n",
    "\n",
    "\\begin{equation}\n",
    "KL(q(z|x)||p(z|x)).\n",
    "\\end{equation}\n",
    "\n",
    "Then take into account the Bayes-rule because we can not calculate the formula above:\n",
    "\n",
    "\\begin{equation}\n",
    "p(z|x) = \\frac{p(x|z)p(z)}{p(x)}.\n",
    "\\end{equation}\n",
    "\n",
    "Substitute this into the KL-divergence above:\n",
    "\n",
    "\\begin{align}\n",
    "KL(q(z|x)||p(z|x)) &= E_q \\log q(z|x) - E_q \\log p(x|z) - E_q \\log p(z) + E_q \\log p(x) \\\\\n",
    "&= -E_q \\log p(x|z) + KL(q(z|x)||p(z)) + \\log p(x).\n",
    "\\end{align}\n",
    "\n",
    "The $\\log p(x)$ does not depend on $q$ and that is the reason for deleting the expectation. The distribution of the input is fixed therefore its gradient does not change. As a consequence, minimizing the KL divergence at the left hand side is the same as minimizing the\n",
    "\n",
    "\\begin{equation}\n",
    "-E_q \\log p(x|z) + KL(q(z|x)||p(z))\n",
    "\\end{equation}\n",
    "\n",
    "function. We assume $p(z)$ is a standard normal distribution. We know nothing about $p(x|z)$ therefore we use an energy based approach for its calculation:\n",
    "\n",
    "\\begin{equation}\n",
    "p(x|z) = \\frac{e^{-E(x, z)}}{Z}.\n",
    "\\end{equation}\n",
    "\n",
    "The choice of the energy ($E$) can be aligned with MSE or BCE or other well known loss functions. Finally we got the equation:\n",
    "\n",
    "\\begin{equation}\n",
    "BCEloss(x, \\overline{x}) + KL(q(z|x)||p(z))\n",
    "\\end{equation}"
   ]
  },
  {
   "cell_type": "markdown",
   "metadata": {},
   "source": [
    "### Kullback-Leibler divergence between normal distributions"
   ]
  },
  {
   "cell_type": "markdown",
   "metadata": {},
   "source": [
    "\\begin{align}\n",
    "KL\\left( N(\\mu, \\sigma) || N(0, 1) \\right) &= \\int_{-\\infty}^\\infty{f(x) \\log\\frac{f(x)}{f_0(x)} dx} \\\\\n",
    "f(x) &=\\frac{1}{\\sqrt{2\\pi\\sigma^2}}e^{-\\frac{(x-\\mu)^2}{2\\sigma^2}} \\\\\n",
    "f_0(x) &=\\frac{1}{\\sqrt{2\\pi}}e^{-\\frac{x^2}{2}}\n",
    "\\end{align}"
   ]
  },
  {
   "cell_type": "markdown",
   "metadata": {},
   "source": [
    "Then taking the logarithms:\n",
    "\n",
    "\\begin{align}\n",
    "\\log f(x) &= -\\log \\sqrt{2 \\pi} - \\log \\sigma - \\frac{(x - \\mu)^2}{2\\sigma^2} \\\\\n",
    "\\log f_0(x) &= -\\log \\sqrt{2 \\pi} - \\frac{x^2}{2}\n",
    "\\end{align}"
   ]
  },
  {
   "cell_type": "markdown",
   "metadata": {},
   "source": [
    "The substraction of the two logarithm eliminates the $-\\log \\sqrt 2\\pi$ part. Then continuing the integration:\n",
    "\n",
    "\\begin{align}\n",
    "KL(.||.) &= \\int_{-\\infty}^\\infty\\left( f(x) \\log f(x) - f(x) \\log f_0(x) \\right) dx \\\\\n",
    "&= \\int_{-\\infty}^\\infty -f(x) \\log \\sigma dx + \\int_{-\\infty}^\\infty f(x) \\left( \\frac{x^2}{2} - \\frac{(x-\\mu)^2}{2\\sigma^2} \\right) dx \\\\\n",
    "&= -\\log \\sigma + \\int_{-\\infty}^\\infty f(x) \\left( \\frac{x^2}{2} - \\frac{(x-\\mu)^2}{2\\sigma^2} \\right) dx.\n",
    "\\end{align}"
   ]
  },
  {
   "cell_type": "markdown",
   "metadata": {},
   "source": [
    "Here we taken into account that $\\int_{-\\infty}^\\infty f(x) dx = 1$. Now we reformulate the second term:\n",
    "\n",
    "\\begin{equation}\n",
    "\\frac{x^2}{2} - \\frac{(x-\\mu)^2}{2\\sigma^2} = \\underbrace{\\left( \\frac{1}{2} - \\frac{1}{2\\sigma^2} \\right)x^2}_{A} + \\underbrace{\\frac{\\mu}{\\sigma^2}x}_{B} - \\underbrace{\\frac{\\mu^2}{2\\sigma^2}}_{C}\n",
    "\\end{equation}\n",
    "\n",
    "\\begin{align}\n",
    "A&: \\int_{-\\infty}^\\infty{\\sigma^2 \\left( \\frac{1}{2} - \\frac{1}{2\\sigma^2} \\right) \\frac{x - \\mu + \\mu}{\\sigma^2}f(x)dx} = \\sigma^2 \\left( \\frac{1}{2} - \\frac{1}{2\\sigma^2} \\right) \\left( 1 + \\frac{\\mu^2}{\\sigma^2} \\right) \n",
    "= \\frac{1}{2} \\left( \\sigma^2 + \\mu^2 - 1 - \\log \\sigma^2 \\right)\\\\\n",
    "B&: \\int_{-\\infty}^\\infty \\frac{\\mu}{\\sigma^2} x f(x)dx = \\frac{\\mu}{\\sigma^2} (x-\\mu+\\mu)f(x)dx = \\frac{\\mu^2}{\\sigma^2} \\\\\n",
    "C&: \\int_{-\\infty}^\\infty -\\frac{\\mu^2}{\\sigma^2} f(x) dx = -\\frac{\\mu^2}{2\\sigma^2}.\n",
    "\\end{align}"
   ]
  },
  {
   "cell_type": "markdown",
   "metadata": {},
   "source": [
    "Where we used the following:\n",
    "\n",
    "\\begin{align}\n",
    "\\frac{x-\\mu}{\\sigma^2}f(x) = \\frac{\\partial f(x)}{\\partial x} \\\\\n",
    "\\int_{-\\infty}^\\infty \\frac{\\partial f(x)}{\\partial x} dx = 0\n",
    "\\end{align}\n",
    "\n",
    "and integration by parts is also necessary to calculate the results above."
   ]
  },
  {
   "cell_type": "markdown",
   "metadata": {},
   "source": [
    "Finally, we got:\n",
    "\n",
    "\\begin{equation}\n",
    "KL\\left( N(\\mu, \\sigma) || N(0, 1) \\right) = \\frac{1}{2}\\left( \\mu^2 + \\sigma^2 - 1 - \\log\\sigma^2 \\right)\n",
    "\\end{equation}"
   ]
  }
 ],
 "metadata": {
  "kernelspec": {
   "display_name": "Python 3",
   "language": "python",
   "name": "python3"
  },
  "language_info": {
   "codemirror_mode": {
    "name": "ipython",
    "version": 3
   },
   "file_extension": ".py",
   "mimetype": "text/x-python",
   "name": "python",
   "nbconvert_exporter": "python",
   "pygments_lexer": "ipython3",
   "version": "3.5.5"
  }
 },
 "nbformat": 4,
 "nbformat_minor": 2
}
