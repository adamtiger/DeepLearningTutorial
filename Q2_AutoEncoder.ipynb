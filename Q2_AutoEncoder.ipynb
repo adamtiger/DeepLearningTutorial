{
 "cells": [
  {
   "cell_type": "markdown",
   "metadata": {},
   "source": [
    "# Auto-Encoder in Pytorch"
   ]
  },
  {
   "cell_type": "markdown",
   "metadata": {},
   "source": [
    "In this tutorial we will introduce and implement auto-encoders. \n",
    "[paper](http://www.icml-2011.org/papers/455_icmlpaper.pdf)"
   ]
  },
  {
   "cell_type": "code",
   "execution_count": 1,
   "metadata": {},
   "outputs": [],
   "source": [
    "%matplotlib inline\n",
    "%config IPCompleter.greedy=True"
   ]
  },
  {
   "cell_type": "code",
   "execution_count": 23,
   "metadata": {},
   "outputs": [],
   "source": [
    "import torch\n",
    "import torch.nn as nn\n",
    "import torch.nn.functional as F\n",
    "import torch.optim as optim\n",
    "from torch.autograd import grad\n",
    "from torch.utils.data import TensorDataset, DataLoader\n",
    "from pckutils import mnist\n",
    "import json"
   ]
  },
  {
   "cell_type": "markdown",
   "metadata": {},
   "source": [
    "## Checking gradients of CAE"
   ]
  },
  {
   "cell_type": "code",
   "execution_count": 3,
   "metadata": {},
   "outputs": [],
   "source": [
    "class BaseAutoEncoder(nn.Module):\n",
    "    \n",
    "    def __init__(self, in_f, out_f):\n",
    "        super(BaseAutoEncoder, self).__init__()\n",
    "        self.in_fetaures = in_f\n",
    "        self.out_features = out_f\n",
    "        \n",
    "        # important to create here all the function which contains parameters to be trained\n",
    "        # otherwise model.parameters() would return an empty list\n",
    "        self.lin_enc = nn.Linear(self.in_fetaures, self.out_features)\n",
    "        self.lin_dec = nn.Linear(self.out_features, self.in_fetaures)\n",
    "    \n",
    "    def forward(self, x):\n",
    "        x.requires_grad=True\n",
    "        self.y_enc = torch.sigmoid(self.lin_enc(x))\n",
    "        self.jacobi_term = self.__jacobi(x, self.y_enc)\n",
    "        y_out = torch.sigmoid(self.lin_dec(self.y_enc))\n",
    "        return y_out\n",
    "    \n",
    "    def __jacobi(self, x, y):\n",
    "        j_frobenius = 0.0\n",
    "        for b in range(x.size(0)):\n",
    "            for i in range(self.out_features):\n",
    "                # creat_graph is important because we will calculate the gradient of j_frobenius according to model parameters\n",
    "                gradients = grad(y[b, i], x, retain_graph=True, create_graph=True)[0] \n",
    "                j_frobenius += gradients.pow(2).sum()\n",
    "        return j_frobenius"
   ]
  },
  {
   "cell_type": "code",
   "execution_count": 4,
   "metadata": {},
   "outputs": [],
   "source": [
    "x = torch.rand((1, 20), requires_grad=True)\n",
    "bae = BaseAutoEncoder(20, 5)\n",
    "y = bae(x)"
   ]
  },
  {
   "cell_type": "code",
   "execution_count": 5,
   "metadata": {},
   "outputs": [
    {
     "data": {
      "text/plain": [
       "tensor(0.0933, grad_fn=<ThAddBackward>)"
      ]
     },
     "execution_count": 5,
     "metadata": {},
     "output_type": "execute_result"
    }
   ],
   "source": [
    "bae.jacobi_term"
   ]
  },
  {
   "cell_type": "code",
   "execution_count": 6,
   "metadata": {},
   "outputs": [],
   "source": [
    "ws = []\n",
    "for p in bae.parameters():\n",
    "    ws.append(p.data)"
   ]
  },
  {
   "cell_type": "code",
   "execution_count": 7,
   "metadata": {},
   "outputs": [],
   "source": [
    "criterion = nn.MSELoss()\n",
    "loss = criterion(y, x) + bae.jacobi_term\n",
    "bae.zero_grad()\n",
    "loss.backward()"
   ]
  },
  {
   "cell_type": "code",
   "execution_count": 8,
   "metadata": {},
   "outputs": [],
   "source": [
    "# derivative of Jacobi term according to W and b\n",
    "w = ws[0]\n",
    "w.requires_grad=True\n",
    "b = ws[1]\n",
    "b.requires_grad=True\n",
    "\n",
    "s = torch.sigmoid(torch.matmul(w, x[0]) + b)\n",
    "ou = torch.matmul(torch.diag(s * (1-s)), w).norm().pow(2) # manual calculation of the Frobenius norm of the Jacobian\n",
    "j_w = grad(ou, w, retain_graph=True)[0]\n",
    "j_b = grad(ou, b, retain_graph=True)[0]"
   ]
  },
  {
   "cell_type": "code",
   "execution_count": 9,
   "metadata": {},
   "outputs": [],
   "source": [
    "# derivative according to the decoder W and b parameters\n",
    "sigm_deriv = y[0] * (1-y[0])\n",
    "sigm_jacobi = torch.diag(sigm_deriv)\n",
    "dec_b = torch.matmul(y[0]-x[0], sigm_jacobi) * 2\n",
    "dec_w = torch.ger(dec_b, bae.y_enc[0])\n",
    "\n",
    "# derivative according to the encoder W and b parameters\n",
    "delta = torch.matmul(torch.matmul((y[0]-x[0]), sigm_jacobi), ws[2])\n",
    "enc_b = torch.matmul(delta, torch.diag(bae.y_enc[0] * (1-bae.y_enc[0]))) * 2\n",
    "enc_w = torch.ger(enc_b, x[0])"
   ]
  },
  {
   "cell_type": "code",
   "execution_count": 10,
   "metadata": {},
   "outputs": [
    {
     "name": "stdout",
     "output_type": "stream",
     "text": [
      "Gradients are OK!\n"
     ]
    }
   ],
   "source": [
    "for p, calc_grad in zip(bae.parameters(), [enc_w + j_w, enc_b + j_b, dec_w, dec_b]):\n",
    "    assert torch.le(torch.abs(p.grad - calc_grad), 1e-7).sum() == calc_grad.numel()\n",
    "print('Gradients are OK!')"
   ]
  },
  {
   "cell_type": "markdown",
   "metadata": {},
   "source": [
    "## MNIST example for CAE"
   ]
  },
  {
   "cell_type": "markdown",
   "metadata": {},
   "source": [
    "Unfortunately, calculating the gradient with autograd is too time consuming. To see this lets try it on the following example with randomly generated inputs."
   ]
  },
  {
   "cell_type": "code",
   "execution_count": null,
   "metadata": {},
   "outputs": [],
   "source": []
  },
  {
   "cell_type": "markdown",
   "metadata": {},
   "source": [
    "To speed up we need calculating the gradient by input manually in **batch** mode. "
   ]
  },
  {
   "cell_type": "code",
   "execution_count": 11,
   "metadata": {},
   "outputs": [],
   "source": [
    "class MNISTautoencoder(nn.Module):\n",
    "    \n",
    "    def __init__(self, in_f, out_f):\n",
    "        super(MNISTautoencoder, self).__init__()\n",
    "        \n",
    "        self.lin_enc = nn.Linear(in_f, out_f)\n",
    "        self.lin_dec = nn.Linear(out_f, in_f)\n",
    "        \n",
    "    def forward(self, x):\n",
    "        '''\n",
    "        x - batch_size x in_f\n",
    "        '''\n",
    "        y_encoded = torch.sigmoid(self.lin_enc(x))\n",
    "        self.jacobi_loss = self.jacobi_loss_calc(x, y_encoded)\n",
    "        y_out = torch.sigmoid(self.lin_dec(y_encoded))\n",
    "        return y_out\n",
    "    \n",
    "    def jacobi_loss_calc(self, x, y):\n",
    "        sigmoid_der = y * (1-y)\n",
    "        w = list(self.lin_enc.parameters())[0]\n",
    "        sigmoid_der_2 = sigmoid_der**2\n",
    "        w_2 = w**2\n",
    "        return torch.sum(torch.matmul(sigmoid_der_2, w_2))"
   ]
  },
  {
   "cell_type": "markdown",
   "metadata": {},
   "source": [
    "### Checking if this simpler form is right"
   ]
  },
  {
   "cell_type": "code",
   "execution_count": 12,
   "metadata": {},
   "outputs": [],
   "source": [
    "x = torch.rand((32, 20))*20\n",
    "mae = MNISTautoencoder(20, 5)\n",
    "bae = BaseAutoEncoder(20, 5)\n",
    "\n",
    "for mae_p, bae_p in zip(mae.parameters(), bae.parameters()):\n",
    "    mae_p.data = bae_p.data"
   ]
  },
  {
   "cell_type": "code",
   "execution_count": 19,
   "metadata": {},
   "outputs": [
    {
     "data": {
      "text/plain": [
       "tensor(1, dtype=torch.uint8)"
      ]
     },
     "execution_count": 19,
     "metadata": {},
     "output_type": "execute_result"
    }
   ],
   "source": [
    "mae_y = mae(x).data\n",
    "bae_y = bae(x).data\n",
    "torch.eq(mae_y, bae_y).sum() == torch.numel(mae_y)"
   ]
  },
  {
   "cell_type": "code",
   "execution_count": 20,
   "metadata": {},
   "outputs": [
    {
     "data": {
      "text/plain": [
       "0.5907829999923706"
      ]
     },
     "execution_count": 20,
     "metadata": {},
     "output_type": "execute_result"
    }
   ],
   "source": [
    "mae.jacobi_loss.item()"
   ]
  },
  {
   "cell_type": "code",
   "execution_count": 21,
   "metadata": {},
   "outputs": [
    {
     "data": {
      "text/plain": [
       "0.5907829999923706"
      ]
     },
     "execution_count": 21,
     "metadata": {},
     "output_type": "execute_result"
    }
   ],
   "source": [
    "bae.jacobi_term.item()"
   ]
  },
  {
   "cell_type": "markdown",
   "metadata": {},
   "source": [
    "### Loading MNIST"
   ]
  },
  {
   "cell_type": "code",
   "execution_count": null,
   "metadata": {},
   "outputs": [],
   "source": [
    "data = mnist.load_mnist()"
   ]
  },
  {
   "cell_type": "code",
   "execution_count": null,
   "metadata": {},
   "outputs": [],
   "source": [
    "X = torch.Tensor(data.X_train)\n",
    "tensors = TensorDataset(X)\n",
    "trainloader = DataLoader(tensors, batch_size=32, shuffle=True)"
   ]
  },
  {
   "cell_type": "code",
   "execution_count": null,
   "metadata": {},
   "outputs": [],
   "source": [
    "mae = MNISTautoencoder(28*28, 200)\n",
    "criterion = nn.MSELoss()\n",
    "optimizer = optim.Adam(mae.parameters(), lr=1e-2)\n",
    "running_loss = 0.0\n",
    "\n",
    "for epoch in range(5):\n",
    "    for i, x in enumerate(trainloader, 1):\n",
    "        \n",
    "        y = mae(x)\n",
    "        loss = criterion(y, x) + mae.jacobi_loss\n",
    "        loss.backward()\n",
    "        optimzer.step()\n",
    "        \n",
    "        running_loss += loss.item()\n",
    "        if i % 200 == 0:\n",
    "            print('[%d, %5d] loss: %.3f' %\n",
    "                  (epoch + 1, i, running_loss / 200))\n",
    "            running_loss = 0.0"
   ]
  },
  {
   "cell_type": "code",
   "execution_count": null,
   "metadata": {},
   "outputs": [],
   "source": [
    "# save the weights\n"
   ]
  },
  {
   "cell_type": "code",
   "execution_count": null,
   "metadata": {},
   "outputs": [],
   "source": [
    "# load the weights if necessary\n"
   ]
  },
  {
   "cell_type": "code",
   "execution_count": null,
   "metadata": {},
   "outputs": [],
   "source": [
    "# generate images\n"
   ]
  }
 ],
 "metadata": {
  "kernelspec": {
   "display_name": "Python 3",
   "language": "python",
   "name": "python3"
  },
  "language_info": {
   "codemirror_mode": {
    "name": "ipython",
    "version": 3
   },
   "file_extension": ".py",
   "mimetype": "text/x-python",
   "name": "python",
   "nbconvert_exporter": "python",
   "pygments_lexer": "ipython3",
   "version": "3.5.5"
  }
 },
 "nbformat": 4,
 "nbformat_minor": 2
}
