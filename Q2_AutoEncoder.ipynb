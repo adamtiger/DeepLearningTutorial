{
 "cells": [
  {
   "cell_type": "markdown",
   "metadata": {},
   "source": [
    "# Auto-Encoder in Pytorch"
   ]
  },
  {
   "cell_type": "markdown",
   "metadata": {},
   "source": [
    "In this tutorial we will introduce and implement auto-encoders. \n",
    "[paper](http://www.icml-2011.org/papers/455_icmlpaper.pdf)"
   ]
  },
  {
   "cell_type": "code",
   "execution_count": 1,
   "metadata": {},
   "outputs": [],
   "source": [
    "%matplotlib inline\n",
    "%config IPCompleter.greedy=True"
   ]
  },
  {
   "cell_type": "code",
   "execution_count": 2,
   "metadata": {},
   "outputs": [],
   "source": [
    "import torch\n",
    "import torch.nn as nn\n",
    "import torch.nn.functional as F\n",
    "from torch.autograd import grad"
   ]
  },
  {
   "cell_type": "markdown",
   "metadata": {},
   "source": [
    "## Checking gradients of CAE"
   ]
  },
  {
   "cell_type": "code",
   "execution_count": 3,
   "metadata": {},
   "outputs": [],
   "source": [
    "class BaseAutoEncoder(nn.Module):\n",
    "    \n",
    "    def __init__(self):\n",
    "        super(BaseAutoEncoder, self).__init__()\n",
    "        self.in_fetaures = 20\n",
    "        self.out_features = 5\n",
    "        \n",
    "        # important to create here all the function which contains parameters to be trained\n",
    "        # otherwise model.parameters() would return an empty list\n",
    "        self.lin_enc = nn.Linear(self.in_fetaures, self.out_features)\n",
    "        self.lin_dec = nn.Linear(self.out_features, self.in_fetaures)\n",
    "    \n",
    "    def forward(self, x):\n",
    "        x.requires_grad=True\n",
    "        self.y_enc = torch.sigmoid(self.lin_enc(x))\n",
    "        self.jacobi_term = self.__jacobi(x, self.y_enc)\n",
    "        y_out = torch.sigmoid(self.lin_dec(self.y_enc))\n",
    "        return y_out\n",
    "    \n",
    "    def __jacobi(self, x, y):\n",
    "        j_frobenius = 0.0\n",
    "        print(x, y)\n",
    "        for i in range(self.out_features):\n",
    "            # creat_graph is important because we will calculate the gradient of j_frobenius according to model parameters\n",
    "            gradients = grad(y[i], x, retain_graph=True, create_graph=True)[0] \n",
    "            j_frobenius += gradients.pow(2).sum()\n",
    "        return j_frobenius"
   ]
  },
  {
   "cell_type": "code",
   "execution_count": 4,
   "metadata": {},
   "outputs": [
    {
     "name": "stdout",
     "output_type": "stream",
     "text": [
      "tensor([0.3990, 0.7454, 0.3830, 0.9446, 0.4892, 0.6996, 0.3893, 0.9953, 0.2582,\n",
      "        0.5677, 0.8482, 0.0058, 0.1002, 0.6475, 0.1915, 0.0787, 0.9594, 0.2624,\n",
      "        0.7715, 0.6969], requires_grad=True) tensor([0.5364, 0.5964, 0.4088, 0.6435, 0.6744], grad_fn=<SigmoidBackward>)\n"
     ]
    }
   ],
   "source": [
    "x = torch.rand(20, requires_grad=True)\n",
    "bae = BaseAutoEncoder()\n",
    "y = bae(x)"
   ]
  },
  {
   "cell_type": "code",
   "execution_count": 5,
   "metadata": {},
   "outputs": [
    {
     "data": {
      "text/plain": [
       "tensor(0.0905, grad_fn=<ThAddBackward>)"
      ]
     },
     "execution_count": 5,
     "metadata": {},
     "output_type": "execute_result"
    }
   ],
   "source": [
    "bae.jacobi_term"
   ]
  },
  {
   "cell_type": "code",
   "execution_count": 6,
   "metadata": {},
   "outputs": [],
   "source": [
    "ws = []\n",
    "for p in bae.parameters():\n",
    "    ws.append(p.data)"
   ]
  },
  {
   "cell_type": "code",
   "execution_count": 7,
   "metadata": {},
   "outputs": [],
   "source": [
    "criterion = nn.MSELoss()\n",
    "loss = criterion(y, x) + bae.jacobi_term\n",
    "bae.zero_grad()\n",
    "loss.backward()"
   ]
  },
  {
   "cell_type": "code",
   "execution_count": 8,
   "metadata": {},
   "outputs": [],
   "source": [
    "# derivative of Jacobi term according to W and b\n",
    "w = ws[0]\n",
    "w.requires_grad=True\n",
    "b = ws[1]\n",
    "b.requires_grad=True\n",
    "\n",
    "s = torch.sigmoid(torch.matmul(w, x) + b)\n",
    "ou = torch.matmul(torch.diag(s * (1-s)), w).norm().pow(2) # manual calculation of the Frobenius norm of the Jacobian\n",
    "j_w = grad(ou, w, retain_graph=True)[0]\n",
    "j_b = grad(ou, b, retain_graph=True)[0]"
   ]
  },
  {
   "cell_type": "code",
   "execution_count": 9,
   "metadata": {},
   "outputs": [],
   "source": [
    "# derivative according to the decoder W and b parameters\n",
    "sigm_deriv = y * (1-y)\n",
    "sigm_jacobi = torch.diag(sigm_deriv)\n",
    "dec_b = torch.matmul(y-x, sigm_jacobi) * 2\n",
    "dec_w = torch.ger(dec_b, bae.y_enc)\n",
    "\n",
    "# derivative according to the encoder W and b parameters\n",
    "delta = torch.matmul(torch.matmul((y-x), sigm_jacobi), ws[2])\n",
    "enc_b = torch.matmul(delta, torch.diag(bae.y_enc * (1-bae.y_enc))) * 2\n",
    "enc_w = torch.ger(enc_b, x)"
   ]
  },
  {
   "cell_type": "code",
   "execution_count": 10,
   "metadata": {},
   "outputs": [
    {
     "name": "stdout",
     "output_type": "stream",
     "text": [
      "Gradients are OK!\n"
     ]
    }
   ],
   "source": [
    "for p, calc_grad in zip(bae.parameters(), [enc_w + j_w, enc_b + j_b, dec_w, dec_b]):\n",
    "    assert torch.le(torch.abs(p.grad - calc_grad), 1e-7).sum() == calc_grad.numel()\n",
    "print('Gradients are OK!')"
   ]
  },
  {
   "cell_type": "markdown",
   "metadata": {},
   "source": [
    "## MNIST example for CAE"
   ]
  },
  {
   "cell_type": "code",
   "execution_count": null,
   "metadata": {},
   "outputs": [],
   "source": []
  }
 ],
 "metadata": {
  "kernelspec": {
   "display_name": "Python 3",
   "language": "python",
   "name": "python3"
  },
  "language_info": {
   "codemirror_mode": {
    "name": "ipython",
    "version": 3
   },
   "file_extension": ".py",
   "mimetype": "text/x-python",
   "name": "python",
   "nbconvert_exporter": "python",
   "pygments_lexer": "ipython3",
   "version": "3.5.5"
  }
 },
 "nbformat": 4,
 "nbformat_minor": 2
}
