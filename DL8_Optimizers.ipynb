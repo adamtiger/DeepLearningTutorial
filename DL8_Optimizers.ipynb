{
 "cells": [
  {
   "cell_type": "markdown",
   "metadata": {},
   "source": [
    "# Optimizers"
   ]
  },
  {
   "cell_type": "markdown",
   "metadata": {},
   "source": [
    "In this part we are going to deal with how to do stochastic gradients. There are different type of gradient methods to address the problems arising during optimization. We will cover the different optimizers in the order of their appearance. During that we will uncover the problems they solve and approach with which they solve it. "
   ]
  },
  {
   "cell_type": "markdown",
   "metadata": {},
   "source": [
    "Generally, we have a loss function and we want to find its minimum point. Each of the loss functions can be derived as a sum of sample loss functions:\n",
    "\n",
    "\\begin{equation}\n",
    "L_\\Theta\\left(y_t, y_p\\right) = \\frac{1}{n}\\sum^n_i { l_\\Theta\\left(y^{(i)}_t, y^{(i)}_p \\right) }.\n",
    "\\end{equation}\n",
    "\n",
    "The goal is to minimize the $L_\\Theta$ function. This requires to calculate the $l_\\Theta$ for all the samples which can take a lot of time. To avoid that, the common approach is to draw a batch of samples from the training data and calculate the loss (and what is more important the gradient) according to that. The larger the batch, the closer it is to the gradient calculated on the whole dataset. When the batch size becomes smaller the speed of calculating the gradient becomes faster but also noisier. Optimizers are different in the way how they update the parameters according to the gradient. To make it simple what one can do with the optimization process is to accumulate the gradients or change the learning rate adaptively. The research community have found clever ways to do that and now we have different optimizer strategies."
   ]
  },
  {
   "cell_type": "code",
   "execution_count": 7,
   "metadata": {},
   "outputs": [],
   "source": [
    "import numpy as np\n",
    "import matplotlib.pyplot as plt\n",
    "from multilayer_nn import activations"
   ]
  },
  {
   "cell_type": "code",
   "execution_count": 2,
   "metadata": {},
   "outputs": [],
   "source": [
    "def plot_learning_path(view, loss, path):\n",
    "    # contruct the x, y plane\n",
    "    x_min, x_max, y_min, y_max = view\n",
    "    delta_x = (x_max - x_min) / 100\n",
    "    delta_y = (y_max - y_min) / 100\n",
    "    x = np.arange(x_min, x_max + delta_x, delta_x)\n",
    "    y = np.arange(y_min, y_max + delta_y, delta_y)\n",
    "    X, Y = np.meshgrid(x, y)\n",
    "    \n",
    "    # calculate the error surface\n",
    "    Z = loss(X, Y)\n",
    "    \n",
    "    # plot the surface and the path in the parameter space\n",
    "    fig, ax = plt.subplots()\n",
    "    CS = ax.contour(X, Y, Z, levels = [0.2, 0.5, 1.0, 2.0, 5.0, 8.0, 10.0])\n",
    "    ax.clabel(CS, inline=1, fontsize=10)\n",
    "    ax.plot(path[0], path[1], 'ro')\n",
    "    ax.set_title('Simplest default with labels')"
   ]
  },
  {
   "cell_type": "code",
   "execution_count": 4,
   "metadata": {},
   "outputs": [
    {
     "data": {
      "text/plain": [
       "(6, 2)"
      ]
     },
     "execution_count": 4,
     "metadata": {},
     "output_type": "execute_result"
    }
   ],
   "source": [
    "# input data\n",
    "x = np.array([[1.2, 2.0], [1.6, 1.1], [-0.67, -0.2], [-1.14, -1.63], [4.3, 5.5], [3.2, 3.8]])"
   ]
  },
  {
   "cell_type": "markdown",
   "metadata": {},
   "source": [
    "![optim](images/optim.png)"
   ]
  },
  {
   "cell_type": "markdown",
   "metadata": {},
   "source": [
    "The image above shows the applied model during learning. We have only two adjustable parameters to make the illustration of the parameter space easy. \n",
    "\n",
    "\\begin{equation}\n",
    "y = \\sigma \\left( x_1 \\cdot \\Theta_1 + x_2 \\cdot \\Theta_2 \\right),\n",
    "\\end{equation}\n",
    "\n",
    "where $\\sigma$ means the sigmoid function. Let's suppose the solution is $\\Theta_1 = 0.3$, $\\Theta_2 = 0.4$. The initial value of the parameters will be: $\\Theta_1 = 5.2$ and $\\Theta_2 = 2.7$. For the model we assume MSE loss."
   ]
  },
  {
   "cell_type": "code",
   "execution_count": 5,
   "metadata": {},
   "outputs": [],
   "source": [
    "theta_0 = np.array([0.3, 0.4])"
   ]
  },
  {
   "cell_type": "code",
   "execution_count": 8,
   "metadata": {},
   "outputs": [],
   "source": [
    "sigmoid = activations.Sigmoid().activate\n",
    "d_sigmoid = activation.Sigmoid().d_activate\n",
    "def model(theta, x):\n",
    "    return sigmoid(np.matmul(x, theta))"
   ]
  },
  {
   "cell_type": "code",
   "execution_count": null,
   "metadata": {},
   "outputs": [],
   "source": [
    "def grad(theta, x):\n",
    "    y = model(theta, x)\n",
    "    y_0 = model(theta_0, x)\n",
    "    return np.matmul((y - y_0) * y * (1 - y), x)"
   ]
  },
  {
   "cell_type": "code",
   "execution_count": 9,
   "metadata": {},
   "outputs": [],
   "source": [
    "# The corresponding solution (output) for the given input (x)\n",
    "y_target = model(x)"
   ]
  },
  {
   "cell_type": "markdown",
   "metadata": {},
   "source": [
    "## SGD "
   ]
  },
  {
   "cell_type": "markdown",
   "metadata": {},
   "source": [
    "SGD means Stochastic Gradient Descent. Originally, SGD means that the batch size is one but in practice it has such a high variance that it is not a widespreaded approach, instead we use the Minibatch Gradient Descent, which has the principles we discussed in the previous paragraph. Nowadays, the term SGD means the Minibatch Gradient Descent. But furthermore we think of vanilla-SGD under the term SGD. Vanilla in this context means that the gradients are directly applied on the parameters, there is nothing to do with the learning rate and the gradients."
   ]
  },
  {
   "cell_type": "markdown",
   "metadata": {},
   "source": [
    "The formula:\n",
    "\n",
    "\\begin{equation}\n",
    "\\Theta \\leftarrow \\Theta - \\alpha \\cdot \\frac{\\partial L}{\\partial \\Theta} \n",
    "\\end{equation}"
   ]
  },
  {
   "cell_type": "code",
   "execution_count": 1,
   "metadata": {},
   "outputs": [],
   "source": [
    "# an example for the convergence behavior\n"
   ]
  },
  {
   "cell_type": "markdown",
   "metadata": {},
   "source": [
    "## Momentum"
   ]
  },
  {
   "cell_type": "markdown",
   "metadata": {},
   "source": [
    "## Adam"
   ]
  },
  {
   "cell_type": "code",
   "execution_count": null,
   "metadata": {},
   "outputs": [],
   "source": []
  },
  {
   "cell_type": "code",
   "execution_count": null,
   "metadata": {},
   "outputs": [],
   "source": []
  },
  {
   "cell_type": "markdown",
   "metadata": {},
   "source": [
    "[Adam](https://arxiv.org/pdf/1412.6980.pdf)"
   ]
  },
  {
   "cell_type": "markdown",
   "metadata": {},
   "source": [
    "## Adadelta"
   ]
  },
  {
   "cell_type": "markdown",
   "metadata": {},
   "source": [
    "[Adadelta](https://arxiv.org/pdf/1212.5701.pdf)"
   ]
  },
  {
   "cell_type": "markdown",
   "metadata": {},
   "source": [
    "## RMSProp"
   ]
  },
  {
   "cell_type": "markdown",
   "metadata": {},
   "source": [
    "[Reference](https://www.cs.toronto.edu/~tijmen/csc321/slides/lecture_slides_lec6.pdf)"
   ]
  },
  {
   "cell_type": "markdown",
   "metadata": {},
   "source": [
    "## Adagrad"
   ]
  },
  {
   "cell_type": "code",
   "execution_count": null,
   "metadata": {},
   "outputs": [],
   "source": []
  },
  {
   "cell_type": "markdown",
   "metadata": {},
   "source": [
    "### Further references"
   ]
  },
  {
   "cell_type": "markdown",
   "metadata": {},
   "source": [
    "[Overview of optimizers by Ruder](http://ruder.io/optimizing-gradient-descent/index.html#rmsprop) <br/>"
   ]
  },
  {
   "cell_type": "code",
   "execution_count": null,
   "metadata": {},
   "outputs": [],
   "source": []
  }
 ],
 "metadata": {
  "kernelspec": {
   "display_name": "Python 3",
   "language": "python",
   "name": "python3"
  },
  "language_info": {
   "codemirror_mode": {
    "name": "ipython",
    "version": 3
   },
   "file_extension": ".py",
   "mimetype": "text/x-python",
   "name": "python",
   "nbconvert_exporter": "python",
   "pygments_lexer": "ipython3",
   "version": "3.5.5"
  }
 },
 "nbformat": 4,
 "nbformat_minor": 2
}
