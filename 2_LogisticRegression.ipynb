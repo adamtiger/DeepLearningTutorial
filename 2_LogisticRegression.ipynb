{
 "cells": [
  {
   "cell_type": "markdown",
   "metadata": {},
   "source": [
    "# Logistic Regression"
   ]
  },
  {
   "cell_type": "markdown",
   "metadata": {},
   "source": [
    "The first part will deal with the theoretical foundations of logistic regression. The second part shows its application on the MNIST dataset."
   ]
  },
  {
   "cell_type": "markdown",
   "metadata": {},
   "source": [
    "## Theoretical background "
   ]
  },
  {
   "cell_type": "markdown",
   "metadata": {},
   "source": [
    "Logistic regression is a method for (binary) classification. The name regression therefore is a bit confusing. The reason why it is a regression is that it calculates the probability of falling into a class. The corner stone of logistic regression is the so called sigmoid function:\n",
    "\n",
    "\\begin{equation*}\n",
    "\\sigma(z) = \\frac{1}{1 + e^{-z}}\n",
    "\\end{equation*}"
   ]
  },
  {
   "cell_type": "markdown",
   "metadata": {},
   "source": [
    "The properties of $\\sigma$ are:\n",
    "\n",
    "* $z \\rightarrow \\infty$, then $\\sigma \\rightarrow 1$\n",
    "* $z \\rightarrow -\\infty$, then $\\sigma \\rightarrow 0$."
   ]
  },
  {
   "cell_type": "markdown",
   "metadata": {},
   "source": [
    "In logistic regression $z = \\Theta \\cdot x$, where $\\Theta$ is the parameter vector while $x$ is the input vector (the collection of features). Then the interpretation of the sigmoid is a probability:\n",
    "\n",
    "\\begin{align}\n",
    "P(y=1|x;\\Theta) &= \\sigma_\\Theta(x) \\\\\n",
    "P(y=0,x;\\Theta) &= 1 - \\sigma_\\Theta(x)\n",
    "\\end{align}\n",
    "\n",
    "After that the probability of a $y$ value if x is the input and $\\Theta$ is a fixed parameter in the model:\n",
    "\n",
    "\\begin{equation*}\n",
    "P(y|x;\\Theta) = \\sigma_\\Theta(x)^y \\left( 1 - \\sigma_\\Theta(x) \\right)^{(1-y)}\n",
    "\\end{equation*}\n",
    "\n",
    "Then, for the whole training set $\\left( \\underline{y}, \\underline{x} \\right)$ the probability:\n",
    "\n",
    "\\begin{equation*}\n",
    "P(\\underline{y}|\\underline{x};\\Theta) = \\Pi_{i=1}^n{\\sigma_\\Theta(x_i)^{y_i} \\left( 1 - \\sigma_\\Theta(x_i) \\right)^{(1-y_i)}}\n",
    "\\end{equation*}"
   ]
  },
  {
   "cell_type": "markdown",
   "metadata": {},
   "source": [
    "where $y_i$ is the $i^{th}$ training sample's label (0 or 1). The goal is to choose a $\\Theta$ for which this probability achieves its maximum. That means that according to the chosen parameters the training set is the most probable configuration but we know (or at least assume) that the training set is correct. Therefore its probability should be 1 according to an ideal model. Unfortunately, the logistic regression model can not express any type of relationship between $x$ and $y$."
   ]
  },
  {
   "cell_type": "markdown",
   "metadata": {},
   "source": [
    "The goal of training:\n",
    "\n",
    "\\begin{equation*}\n",
    "\\Theta^* = argmax_\\Theta (P(\\underline{y}|\\underline{x};\\Theta))\n",
    "\\end{equation*}"
   ]
  },
  {
   "cell_type": "markdown",
   "metadata": {},
   "source": [
    "We can take the logarithm of the probability because the logarithm function is strictly monoton therefore the maximum remains at the same place but the problem will be easier:\n",
    "\n",
    "\\begin{equation*}\n",
    "J(\\Theta) = log P(\\underline{y}|\\underline{x};\\Theta) = \\sum_{i=1}^n{y_i log \\sigma_\\Theta(x) + (1-y_i)log\\left( 1 - \\sigma_\\Theta(x) \\right)}\n",
    "\\end{equation*}"
   ]
  },
  {
   "cell_type": "markdown",
   "metadata": {},
   "source": [
    "To find the maximum we can use a gradient ascend method. To use a gradient method we need to calculate the gradient:\n",
    "\n",
    "\\begin{equation*}\n",
    "\\nabla_\\Theta J(\\Theta) = \\sum_{i=1}^n{\\left( y_i - \\sigma_\\Theta(x_i) \\right) x_i}\n",
    "\\end{equation*}\n",
    "\n",
    "For the derivation it is useful to take into account that the derivative of the sigmoid function:\n",
    "\n",
    "\\begin{equation*}\n",
    "\\frac{\\partial}{\\partial \\Theta}\\sigma_\\Theta(x) = \\sigma_\\Theta(x)\\left( 1 - \\sigma_\\Theta(x) \\right) x\n",
    "\\end{equation*}"
   ]
  },
  {
   "cell_type": "markdown",
   "metadata": {},
   "source": [
    "Then the update rule for $\\Theta$:\n",
    "\n",
    "\\begin{equation*}\n",
    "\\Theta_{t+1} = \\Theta_t + \\alpha \\nabla_\\Theta J(\\Theta)|_{\\Theta=\\Theta_t}\n",
    "\\end{equation*}"
   ]
  },
  {
   "cell_type": "markdown",
   "metadata": {},
   "source": [
    "During the example the optimization will use batches from the training set to avoid the huge computation cost. This is a stochastic gradient ascent. "
   ]
  },
  {
   "cell_type": "markdown",
   "metadata": {},
   "source": [
    "## Logistic regression on MNIST"
   ]
  },
  {
   "cell_type": "code",
   "execution_count": 1,
   "metadata": {},
   "outputs": [],
   "source": [
    "from pckutils import mnist\n",
    "from logistic_regression import logic\n",
    "import numpy as np\n",
    "from matplotlib import pyplot as plt\n",
    "import os"
   ]
  },
  {
   "cell_type": "markdown",
   "metadata": {},
   "source": [
    "### Shape of sigmoid and its derivative"
   ]
  },
  {
   "cell_type": "code",
   "execution_count": 2,
   "metadata": {},
   "outputs": [
    {
     "data": {
      "image/png": "[encoded data removed]",
      "text/plain": [
       "<Figure size 432x288 with 1 Axes>"
      ]
     },
     "metadata": {},
     "output_type": "display_data"
    }
   ],
   "source": [
    "# plotting the sigmoid function\n",
    "theta = 1.0\n",
    "xs = [t for t in range(-35, 35)]\n",
    "ys = []\n",
    "for x in xs:\n",
    "    y = logic.sigmoid(theta, x/5)\n",
    "    ys.append(y)\n",
    "\n",
    "plt.plot(xs, ys, 'bo')\n",
    "plt.show()"
   ]
  },
  {
   "cell_type": "markdown",
   "metadata": {},
   "source": [
    "It can be seen that the left tail goes to 0.0 while the right tail goes to 1.0."
   ]
  },
  {
   "cell_type": "code",
   "execution_count": 3,
   "metadata": {},
   "outputs": [
    {
     "data": {
      "image/png": "[encoded data removed]",
      "text/plain": [
       "<Figure size 432x288 with 1 Axes>"
      ]
     },
     "metadata": {},
     "output_type": "display_data"
    }
   ],
   "source": [
    "ys_comma = []\n",
    "for x in xs:\n",
    "    sigmoid = logic.sigmoid(theta, x/5)\n",
    "    y = sigmoid * (1 - sigmoid)\n",
    "    ys_comma.append(y)\n",
    "\n",
    "plt.plot(xs, ys_comma, 'ro')\n",
    "plt.show()"
   ]
  },
  {
   "cell_type": "markdown",
   "metadata": {},
   "source": [
    "### Loading MNIST data"
   ]
  },
  {
   "cell_type": "code",
   "execution_count": 4,
   "metadata": {},
   "outputs": [],
   "source": [
    "url_train_image = \"http://yann.lecun.com/exdb/mnist/train-images-idx3-ubyte.gz\"\n",
    "url_train_label = \"http://yann.lecun.com/exdb/mnist/train-labels-idx1-ubyte.gz\"\n",
    "url_test_image = \"http://yann.lecun.com/exdb/mnist/t10k-images-idx3-ubyte.gz\"\n",
    "url_test_label = \"http://yann.lecun.com/exdb/mnist/t10k-labels-idx1-ubyte.gz\""
   ]
  },
  {
   "cell_type": "code",
   "execution_count": 5,
   "metadata": {},
   "outputs": [
    {
     "name": "stdout",
     "output_type": "stream",
     "text": [
      "train_L done.\n",
      "test_I done.\n",
      "test_L done.\n"
     ]
    }
   ],
   "source": [
    "# download packages if it was not downloaded\n",
    "train_imgs_file_name = \"data/training_mnist_imgs.gz\"\n",
    "train_lbls_file_name = \"data/training_mnist_lbls.gz\"\n",
    "test_imgs_file_name = \"data/test_mnist_imgs.gz\"\n",
    "test_lbls_file_name = \"data/test_mnist_lbls.gz\"\n",
    "\n",
    "# checking if a file exists\n",
    "train_I = os.path.exists(train_imgs_file_name)\n",
    "train_L = os.path.exists(train_lbls_file_name)\n",
    "test_I = os.path.exists(test_imgs_file_name)\n",
    "test_L = os.path.exists(test_lbls_file_name)\n",
    "\n",
    "if not train_I:\n",
    "    mnist.download(url_train_image, train_imgs_file_name)\n",
    "    mnist.unzip(train_imgs_file_name)\n",
    "    print(\"train_I done.\")\n",
    "    \n",
    "if not train_L:\n",
    "    mnist.download(url_train_label, train_lbls_file_name)\n",
    "    mnist.unzip(train_lbls_file_name)\n",
    "    print(\"train_L done.\")\n",
    "    \n",
    "if not test_I:\n",
    "    mnist.download(url_test_image, test_imgs_file_name)\n",
    "    mnist.unzip(test_imgs_file_name)\n",
    "    print(\"test_I done.\")\n",
    "    \n",
    "if not test_L:\n",
    "    mnist.download(url_test_label, test_lbls_file_name)\n",
    "    mnist.unzip(test_lbls_file_name)\n",
    "    print(\"test_L done.\")"
   ]
  },
  {
   "cell_type": "code",
   "execution_count": 6,
   "metadata": {},
   "outputs": [
    {
     "name": "stdout",
     "output_type": "stream",
     "text": [
      "2051 60000 28 28\n",
      "Reading images: [100%]\n",
      "2049 60000\n",
      "Reading labels: [100%]\n",
      "2051 10000 28 28\n",
      "Reading images: [100%]\n",
      "2049 10000\n",
      "Reading labels: [100%]\n"
     ]
    }
   ],
   "source": [
    "# load in the images and labels\n",
    "train_imgs_file_name = \"data/training_mnist_imgs.mnist\"\n",
    "train_lbls_file_name = \"data/training_mnist_lbls.mnist\"\n",
    "test_imgs_file_name = \"data/test_mnist_imgs.mnist\"\n",
    "test_lbls_file_name = \"data/test_mnist_lbls.mnist\"\n",
    "\n",
    "# training images\n",
    "mgb, num_train_imgs, rows, cols, x_train_s = mnist.read_img(train_imgs_file_name)\n",
    "assert mgb == 2051, \"Wrong magic number when training images were loaded!\"\n",
    "\n",
    "# training labels (number of labels are the same as number of images)\n",
    "mgb, _, y_train_s = mnist.read_label(train_lbls_file_name)\n",
    "assert mgb == 2049, \"Wrong magic number when training labels were loaded!\"\n",
    "\n",
    "# test images (test image size is the same)\n",
    "mgb, num_test_imgs, _, _, x_test_s = mnist.read_img(test_imgs_file_name)\n",
    "assert mgb == 2051, \"Wrong magic number when test images were loaded!\"\n",
    "\n",
    "# test labels\n",
    "mgb, _, y_test_s = mnist.read_label(test_lbls_file_name)\n",
    "assert mgb == 2049, \"Wrong magic number when test labels were loaded!\""
   ]
  },
  {
   "cell_type": "code",
   "execution_count": 7,
   "metadata": {},
   "outputs": [
    {
     "data": {
      "image/png": "[encoded data removed]",
      "text/plain": [
       "<Figure size 432x288 with 1 Axes>"
      ]
     },
     "metadata": {},
     "output_type": "display_data"
    },
    {
     "name": "stdout",
     "output_type": "stream",
     "text": [
      "The corresponding digit: 5\n"
     ]
    }
   ],
   "source": [
    "# show an example from the dataset\n",
    "mnist.show_handwritten_digit(x_train_s[0], rows, cols)\n",
    "print(\"The corresponding digit: %d\" %int(y_train_s[0]))"
   ]
  },
  {
   "cell_type": "markdown",
   "metadata": {},
   "source": [
    "### Choosing the images with 0s and 1s"
   ]
  },
  {
   "cell_type": "markdown",
   "metadata": {},
   "source": [
    "We want a binary classification problem therefore we should find and collect the images and labels with 0 or 1."
   ]
  },
  {
   "cell_type": "code",
   "execution_count": 8,
   "metadata": {},
   "outputs": [],
   "source": [
    "# First define a helper function.\n",
    "# Collecting indices then separating the corresponding images.\n",
    "def find_0s_1s(images, labels): # images and labels are lists with the same length\n",
    "    indices = []\n",
    "    for idx, label in enumerate(labels):\n",
    "        if label == 0 or label == 1:\n",
    "            indices.append(idx)\n",
    "            \n",
    "    images_01 = []\n",
    "    labels_01 = []\n",
    "    for idx in indices:\n",
    "        images_01.append(images[idx])\n",
    "        labels_01.append(labels[idx])\n",
    "    return images_01, labels_01"
   ]
  },
  {
   "cell_type": "code",
   "execution_count": 9,
   "metadata": {},
   "outputs": [],
   "source": [
    "# training set\n",
    "x_train_01, y_train_01 = find_0s_1s(x_train_s, y_train_s)"
   ]
  },
  {
   "cell_type": "code",
   "execution_count": 10,
   "metadata": {},
   "outputs": [],
   "source": [
    "# test set\n",
    "x_test_01, y_test_01 = find_0s_1s(x_test_s, y_test_s)"
   ]
  },
  {
   "cell_type": "code",
   "execution_count": 11,
   "metadata": {},
   "outputs": [
    {
     "name": "stdout",
     "output_type": "stream",
     "text": [
      "12665 2115\n"
     ]
    }
   ],
   "source": [
    "# calculate some properties of the new data set\n",
    "num_train_imgs = len(x_train_01)\n",
    "num_test_imgs = len(x_test_01)\n",
    "print(num_train_imgs, num_test_imgs)"
   ]
  },
  {
   "cell_type": "markdown",
   "metadata": {},
   "source": [
    "### Doing the regression"
   ]
  },
  {
   "cell_type": "code",
   "execution_count": 12,
   "metadata": {},
   "outputs": [],
   "source": [
    "# parameters\n",
    "data = (x_train_01, y_train_01)\n",
    "lr = 0.001\n",
    "max_iter = 50\n",
    "batch_size = 1024\n",
    "epoch = 4\n",
    "split_ratio=0.95"
   ]
  },
  {
   "cell_type": "code",
   "execution_count": 13,
   "metadata": {},
   "outputs": [
    {
     "name": "stderr",
     "output_type": "stream",
     "text": [
      "D:\\AI\\learning\\DeepLearningTutorial\\logistic_regression\\logic.py:7: RuntimeWarning: overflow encountered in exp\n",
      "  return 1.0 / (1.0 + np.exp(-z))\n"
     ]
    },
    {
     "name": "stdout",
     "output_type": "stream",
     "text": [
      "Iterating: [100%]\n"
     ]
    }
   ],
   "source": [
    "# fitting\n",
    "theta, train_e, test_e = logic.logistic_regression(data, lr, max_iter, batch_size, epoch=epoch, split_ratio=split_ratio, verbose=True)"
   ]
  },
  {
   "cell_type": "code",
   "execution_count": 14,
   "metadata": {},
   "outputs": [
    {
     "data": {
      "image/png": "[encoded data removed]",
      "text/plain": [
       "<Figure size 432x288 with 1 Axes>"
      ]
     },
     "metadata": {},
     "output_type": "display_data"
    }
   ],
   "source": [
    "# reporting learning curve\n",
    "plt.figure(1)\n",
    "x_axis_train = [x for x in range(len(train_e))]\n",
    "x_axis_test = [x * len(train_e)//len(test_e) for x in range(len(test_e))]\n",
    "plt.plot(x_axis_train, train_e, 'ro', x_axis_test, test_e, 'b+')\n",
    "plt.show()"
   ]
  },
  {
   "cell_type": "code",
   "execution_count": 15,
   "metadata": {},
   "outputs": [
    {
     "name": "stdout",
     "output_type": "stream",
     "text": [
      "The error rate: 0.05%\n"
     ]
    },
    {
     "name": "stderr",
     "output_type": "stream",
     "text": [
      "D:\\AI\\learning\\DeepLearningTutorial\\logistic_regression\\logic.py:7: RuntimeWarning: overflow encountered in exp\n",
      "  return 1.0 / (1.0 + np.exp(-z))\n"
     ]
    },
    {
     "data": {
      "image/png": "[encoded data removed]",
      "text/plain": [
       "<Figure size 432x288 with 1 Axes>"
      ]
     },
     "metadata": {},
     "output_type": "display_data"
    },
    {
     "name": "stdout",
     "output_type": "stream",
     "text": [
      "Predicted: 1\n",
      "Correct: 1\n"
     ]
    }
   ],
   "source": [
    "# calculating error rate on the test set\n",
    "errors = 0.0\n",
    "for x, y in zip(x_test_01, y_test_01):\n",
    "    if logic.predict(theta, x) != y:\n",
    "        errors += 1.0\n",
    "\n",
    "error_rate = errors/num_test_imgs * 100.0\n",
    "print('The error rate: %.2f%%' %error_rate)\n",
    "\n",
    "idx = 8\n",
    "x = x_test_01[idx]\n",
    "mnist.show_handwritten_digit(x, 28, 28)\n",
    "print(\"Predicted: %d\" %logic.predict(theta, x))\n",
    "print(\"Correct: %d\" %y_test_01[idx])"
   ]
  },
  {
   "cell_type": "markdown",
   "metadata": {},
   "source": [
    "### Summary"
   ]
  },
  {
   "cell_type": "markdown",
   "metadata": {},
   "source": [
    "Such a simple method then logistic regression was able to perform very well on the MNIST data set. This is because we only took into account the 0s and 1s but nothing else. Differentiating a 0 and 1 can be easy. It is worthy to try with more similar digits. "
   ]
  }
 ],
 "metadata": {
  "kernelspec": {
   "display_name": "Python 3",
   "language": "python",
   "name": "python3"
  },
  "language_info": {
   "codemirror_mode": {
    "name": "ipython",
    "version": 3
   },
   "file_extension": ".py",
   "mimetype": "text/x-python",
   "name": "python",
   "nbconvert_exporter": "python",
   "pygments_lexer": "ipython3",
   "version": "3.5.5"
  }
 },
 "nbformat": 4,
 "nbformat_minor": 2
}
