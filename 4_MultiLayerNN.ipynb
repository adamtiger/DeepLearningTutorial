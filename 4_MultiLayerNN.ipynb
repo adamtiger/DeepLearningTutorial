{
 "cells": [
  {
   "cell_type": "markdown",
   "metadata": {},
   "source": [
    "# Multi-layer Neural Network"
   ]
  },
  {
   "cell_type": "markdown",
   "metadata": {},
   "source": [
    "In this tutorial we will discuss a powerful method to solve supervised learning problems. We will mainly focus on the theoretical parts in a deeper level to understand the most important aspects of neural networks which will be the basis for understanding deep learning methods."
   ]
  },
  {
   "cell_type": "markdown",
   "metadata": {},
   "source": [
    "## A case study on MNIST"
   ]
  },
  {
   "cell_type": "code",
   "execution_count": 1,
   "metadata": {},
   "outputs": [],
   "source": [
    "%matplotlib inline\n",
    "%config IPCompleter.greedy=True"
   ]
  },
  {
   "cell_type": "code",
   "execution_count": 2,
   "metadata": {},
   "outputs": [],
   "source": [
    "from multilayer_nn import mlp, activations, losses, regularizers, initializers, optimizers\n",
    "from pckutils import mnist, utils\n",
    "import numpy as np\n",
    "from matplotlib import pyplot as plt\n",
    "import os"
   ]
  },
  {
   "cell_type": "markdown",
   "metadata": {},
   "source": [
    "### Loading MNIST data"
   ]
  },
  {
   "cell_type": "code",
   "execution_count": 3,
   "metadata": {},
   "outputs": [],
   "source": [
    "url_train_image = \"http://yann.lecun.com/exdb/mnist/train-images-idx3-ubyte.gz\"\n",
    "url_train_label = \"http://yann.lecun.com/exdb/mnist/train-labels-idx1-ubyte.gz\"\n",
    "url_test_image = \"http://yann.lecun.com/exdb/mnist/t10k-images-idx3-ubyte.gz\"\n",
    "url_test_label = \"http://yann.lecun.com/exdb/mnist/t10k-labels-idx1-ubyte.gz\""
   ]
  },
  {
   "cell_type": "code",
   "execution_count": 4,
   "metadata": {},
   "outputs": [],
   "source": [
    "# download packages if it was not downloaded\n",
    "train_imgs_file_name = \"data/training_mnist_imgs.gz\"\n",
    "train_lbls_file_name = \"data/training_mnist_lbls.gz\"\n",
    "test_imgs_file_name = \"data/test_mnist_imgs.gz\"\n",
    "test_lbls_file_name = \"data/test_mnist_lbls.gz\"\n",
    "\n",
    "# checking if a file exists\n",
    "train_I = os.path.exists(train_imgs_file_name)\n",
    "train_L = os.path.exists(train_lbls_file_name)\n",
    "test_I = os.path.exists(test_imgs_file_name)\n",
    "test_L = os.path.exists(test_lbls_file_name)\n",
    "\n",
    "if not train_I:\n",
    "    mnist.download(url_train_image, train_imgs_file_name)\n",
    "    mnist.unzip(train_imgs_file_name)\n",
    "    print(\"train_I done.\")\n",
    "    \n",
    "if not train_L:\n",
    "    mnist.download(url_train_label, train_lbls_file_name)\n",
    "    mnist.unzip(train_lbls_file_name)\n",
    "    print(\"train_L done.\")\n",
    "    \n",
    "if not test_I:\n",
    "    mnist.download(url_test_image, test_imgs_file_name)\n",
    "    mnist.unzip(test_imgs_file_name)\n",
    "    print(\"test_I done.\")\n",
    "    \n",
    "if not test_L:\n",
    "    mnist.download(url_test_label, test_lbls_file_name)\n",
    "    mnist.unzip(test_lbls_file_name)\n",
    "    print(\"test_L done.\")"
   ]
  },
  {
   "cell_type": "code",
   "execution_count": 5,
   "metadata": {},
   "outputs": [
    {
     "name": "stdout",
     "output_type": "stream",
     "text": [
      "2051 60000 28 28\n",
      "Reading images: [100%]\n",
      "2049 60000\n",
      "Reading labels: [100%]\n",
      "2051 10000 28 28\n",
      "Reading images: [100%]\n",
      "2049 10000\n",
      "Reading labels: [100%]\n"
     ]
    }
   ],
   "source": [
    "# load in the images and labels\n",
    "train_imgs_file_name = \"data/training_mnist_imgs.mnist\"\n",
    "train_lbls_file_name = \"data/training_mnist_lbls.mnist\"\n",
    "test_imgs_file_name = \"data/test_mnist_imgs.mnist\"\n",
    "test_lbls_file_name = \"data/test_mnist_lbls.mnist\"\n",
    "\n",
    "# training images\n",
    "mgb, num_train_imgs, rows, cols, x_train_s = mnist.read_img(train_imgs_file_name)\n",
    "assert mgb == 2051, \"Wrong magic number when training images were loaded!\"\n",
    "\n",
    "# training labels (number of labels are the same as number of images)\n",
    "mgb, _, y_train_s = mnist.read_label(train_lbls_file_name)\n",
    "assert mgb == 2049, \"Wrong magic number when training labels were loaded!\"\n",
    "\n",
    "# test images (test image size is the same)\n",
    "mgb, num_test_imgs, _, _, x_test_s = mnist.read_img(test_imgs_file_name)\n",
    "assert mgb == 2051, \"Wrong magic number when test images were loaded!\"\n",
    "\n",
    "# test labels\n",
    "mgb, _, y_test_s = mnist.read_label(test_lbls_file_name)\n",
    "assert mgb == 2049, \"Wrong magic number when test labels were loaded!\""
   ]
  },
  {
   "cell_type": "code",
   "execution_count": 6,
   "metadata": {},
   "outputs": [],
   "source": [
    "# add bias to x and one-hot encode y\n",
    "X = utils.add_bias_to_vectors(utils.scale(x_train_s, 1/255.0))\n",
    "Y = utils.one_hot_encode(y_train_s, 10)"
   ]
  },
  {
   "cell_type": "markdown",
   "metadata": {},
   "source": [
    "### Create the neural network"
   ]
  },
  {
   "cell_type": "code",
   "execution_count": 7,
   "metadata": {},
   "outputs": [],
   "source": [
    "loss = losses.CrossEntropy()\n",
    "initializer = initializers.Xavier()\n",
    "regularizer = regularizers.ZeroRegularizer()\n",
    "optimizer = optimizers.SGD(0.1)"
   ]
  },
  {
   "cell_type": "code",
   "execution_count": 8,
   "metadata": {},
   "outputs": [],
   "source": [
    "nn = mlp.Mlp(optimizer, loss, initializer, regularizer)"
   ]
  },
  {
   "cell_type": "code",
   "execution_count": 9,
   "metadata": {},
   "outputs": [],
   "source": [
    "nn.add_layer(10, input_length=28*28+1, activation=activations.Softmax())"
   ]
  },
  {
   "cell_type": "code",
   "execution_count": 10,
   "metadata": {},
   "outputs": [],
   "source": [
    "# callback for gathering the error rates during training\n",
    "history = {'errors': [], 'losses': []}\n",
    "def performance_monitor(batch_y_p, batch_y, loss, ep, itr):\n",
    "    if itr % 2 == 0:\n",
    "        history['losses'].append(loss)\n",
    "        err = utils.error_rate(batch_y_p, batch_y)\n",
    "        history['errors'].append(err)"
   ]
  },
  {
   "cell_type": "code",
   "execution_count": 11,
   "metadata": {},
   "outputs": [
    {
     "name": "stdout",
     "output_type": "stream",
     "text": [
      "Iterating: [99%]\n"
     ]
    }
   ],
   "source": [
    "nn.fit(X, Y, 15, 6000, verbose=True, callback=performance_monitor)"
   ]
  },
  {
   "cell_type": "code",
   "execution_count": 12,
   "metadata": {},
   "outputs": [
    {
     "data": {
      "image/png": "[encoded data removed]",
      "text/plain": [
       "<Figure size 432x288 with 1 Axes>"
      ]
     },
     "metadata": {},
     "output_type": "display_data"
    }
   ],
   "source": [
    "iterations = [i for i in range(len(history['errors']))]\n",
    "plt.plot(iterations, history['errors'], 'ro')\n",
    "plt.show()"
   ]
  },
  {
   "cell_type": "code",
   "execution_count": 14,
   "metadata": {},
   "outputs": [
    {
     "name": "stdout",
     "output_type": "stream",
     "text": [
      "The error rate: 8.96%\n"
     ]
    }
   ],
   "source": [
    "# calculating error rate on the test set\n",
    "X_test = utils.add_bias_to_vectors(utils.scale(x_test_s, 1/255.0))\n",
    "Y_test = utils.one_hot_encode(y_test_s, 10)\n",
    "y_p = nn.predict_batch(X_test, 'onehot')\n",
    "\n",
    "error_rate = utils.error_rate(y_p, Y_test) * 100\n",
    "\n",
    "print('The error rate: %.2f%%' %error_rate)"
   ]
  },
  {
   "cell_type": "code",
   "execution_count": null,
   "metadata": {},
   "outputs": [],
   "source": []
  }
 ],
 "metadata": {
  "kernelspec": {
   "display_name": "Python 3",
   "language": "python",
   "name": "python3"
  },
  "language_info": {
   "codemirror_mode": {
    "name": "ipython",
    "version": 3
   },
   "file_extension": ".py",
   "mimetype": "text/x-python",
   "name": "python",
   "nbconvert_exporter": "python",
   "pygments_lexer": "ipython3",
   "version": "3.5.5"
  }
 },
 "nbformat": 4,
 "nbformat_minor": 2
}
