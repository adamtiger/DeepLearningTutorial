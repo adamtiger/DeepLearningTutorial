{
 "cells": [
  {
   "cell_type": "markdown",
   "metadata": {},
   "source": [
    "# Convolution"
   ]
  },
  {
   "cell_type": "markdown",
   "metadata": {},
   "source": [
    "Convolution is one of the most important layers used in image processing based problems. On the other it is also one of the most computationally demanding layer. This tutorial explains how convolution works, then introduces a faster method to compute the convolution with Winograd. Finally, we discuss the backpropagation through a convolutional layer."
   ]
  },
  {
   "cell_type": "markdown",
   "metadata": {},
   "source": [
    "[![conv](https://img.youtube.com/vi/wUp5hx-onUI/0.jpg)](https://www.youtube.com/watch?v=wUp5hx-onUI)"
   ]
  },
  {
   "cell_type": "code",
   "execution_count": 1,
   "metadata": {},
   "outputs": [],
   "source": [
    "%matplotlib inline\n",
    "%config IPCompleter.greedy=True # this line is for autocomplete"
   ]
  },
  {
   "cell_type": "code",
   "execution_count": 2,
   "metadata": {},
   "outputs": [],
   "source": [
    "from cnn.cnn_base import Convolution\n",
    "import numpy as np"
   ]
  },
  {
   "cell_type": "markdown",
   "metadata": {},
   "source": [
    "### Example for convolution (forward)"
   ]
  },
  {
   "cell_type": "code",
   "execution_count": 3,
   "metadata": {},
   "outputs": [],
   "source": [
    "input_shape = (1, 3, 3, 2)\n",
    "filters = 1\n",
    "kernel_size = (2, 2)\n",
    "strides = (1, 1)\n",
    "dilations = (0, 0)\n",
    "padding = 'SAME'\n",
    "conv = Convolution(input_shape, filters, kernel_size, strides, dilations, padding)"
   ]
  },
  {
   "cell_type": "code",
   "execution_count": 4,
   "metadata": {},
   "outputs": [],
   "source": [
    "# create a kernel full of with 1s\n",
    "conv.kernel = np.ones((1, 2, 2, 2))\n",
    "\n",
    "# create the input tensor\n",
    "x = np.zeros((1, 3, 3, 2))\n",
    "x[0, :, :, 0] = np.array([[2, 1, 1.5], [3, 2.2, 5], [5, 3, 2]])\n",
    "x[0, :, :, 1] = np.array([[7.3, 4, 2], [4, 3, 2], [0.8, 2.7, 3.9]])"
   ]
  },
  {
   "cell_type": "code",
   "execution_count": 5,
   "metadata": {},
   "outputs": [
    {
     "data": {
      "text/plain": [
       "(1, 3, 3, 1)"
      ]
     },
     "execution_count": 5,
     "metadata": {},
     "output_type": "execute_result"
    }
   ],
   "source": [
    "conv.output_shape()"
   ]
  },
  {
   "cell_type": "code",
   "execution_count": 6,
   "metadata": {},
   "outputs": [],
   "source": [
    "y = conv(x)"
   ]
  },
  {
   "cell_type": "code",
   "execution_count": 7,
   "metadata": {},
   "outputs": [
    {
     "data": {
      "text/plain": [
       "array([[[[26.5],\n",
       "         [20.7],\n",
       "         [10.5]],\n",
       "\n",
       "        [[23.7],\n",
       "         [23.8],\n",
       "         [12.9]],\n",
       "\n",
       "        [[11.5],\n",
       "         [11.6],\n",
       "         [ 5.9]]]])"
      ]
     },
     "execution_count": 7,
     "metadata": {},
     "output_type": "execute_result"
    }
   ],
   "source": [
    "y"
   ]
  },
  {
   "cell_type": "code",
   "execution_count": null,
   "metadata": {},
   "outputs": [],
   "source": []
  }
 ],
 "metadata": {
  "kernelspec": {
   "display_name": "Python 3",
   "language": "python",
   "name": "python3"
  },
  "language_info": {
   "codemirror_mode": {
    "name": "ipython",
    "version": 3
   },
   "file_extension": ".py",
   "mimetype": "text/x-python",
   "name": "python",
   "nbconvert_exporter": "python",
   "pygments_lexer": "ipython3",
   "version": "3.5.5"
  }
 },
 "nbformat": 4,
 "nbformat_minor": 2
}
